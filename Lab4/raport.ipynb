{
  "nbformat": 4,
  "nbformat_minor": 0,
  "metadata": {
    "kernelspec": {
      "display_name": "AiBD",
      "language": "python",
      "name": "aibd"
    },
    "language_info": {
      "codemirror_mode": {
        "name": "ipython",
        "version": 3
      },
      "file_extension": ".py",
      "mimetype": "text/x-python",
      "name": "python",
      "nbconvert_exporter": "python",
      "pygments_lexer": "ipython3",
      "version": "3.8.6"
    },
    "colab": {
      "name": "raport.ipynb",
      "provenance": [],
      "collapsed_sections": []
    }
  },
  "cells": [
    {
      "cell_type": "markdown",
      "metadata": {
        "id": "v3wYeD7ATRHE"
      },
      "source": [
        "## Przykładowe tabele obrazujące łączenie\n",
        "\n",
        "Do zobrazowania operacji łączenia zostaną użyte tabele:\n",
        "\n",
        "```sql\n",
        "CREATE TABLE shape_a (\n",
        "    id INT PRIMARY KEY,\n",
        "    shape VARCHAR (100) NOT NULL\n",
        ");\n",
        " \n",
        "CREATE TABLE shape_b (\n",
        "    id INT PRIMARY KEY,\n",
        "    shape VARCHAR (100) NOT NULL\n",
        ");\n",
        "```\n",
        " \n",
        "Polecenie CREATE TABLE tworzy tabelę o zadanej nazwie i strukturze. Ogólna postać to:\n",
        "```sql\n",
        "CREATE TABLE tab_name (\n",
        "    col_name1 data_type constrain,\n",
        "    col_name1 data_type constrain,\n",
        "    ...\n",
        ");\n",
        "```\n",
        "Należy uzupełnić ją danymi:\n",
        "```sql\n",
        "INSERT INTO shape_a (id, shape)\n",
        "VALUES\n",
        "    (1, 'Trójkąt'),\n",
        "    (2, 'Kwadrat'),\n",
        "    (3, 'Deltoid'),\n",
        "    (4, 'Traper');\n",
        " \n",
        "INSERT INTO shape_b (id, shape)\n",
        "VALUES\n",
        "    (1, 'Kwadrat'),\n",
        "    (2, 'Trójkąt'),\n",
        "    (3, 'Romb'),\n",
        "    (4, 'Równoległobok');\n",
        "```\n",
        "Komenda INSERT INTO pozwala na dodanie do tabeli rekordów. Ogólna postać to:\n",
        "\n",
        "```sql\n",
        "INSERT INTO tab_name (col1_name, col2_name2, ...) \n",
        "VALUES\n",
        "    (val1_col1, val2_col2),\n",
        "    (val2_col1, val2_col2),\n",
        "    ...\n",
        "```"
      ]
    },
    {
      "cell_type": "markdown",
      "metadata": {
        "id": "f-VQ8lutTRHH"
      },
      "source": [
        "## Inner join \n",
        "\n",
        "Jest to podstawowy rodzaj złączenie. Ten sposób złączenia wybiera  te wiersze, dla których warunek złączenia jest spełniony. W żadnej z łączonych tabel kolumna użyta do łączenia nie może mieć wartości NULL. \n",
        "\n",
        "#### Przykład:\n",
        "```sql\n",
        "SELECT\n",
        "    a.id id_a,\n",
        "    a.shape shape_a,\n",
        "    b.id id_b,\n",
        "    b.shape shape_b\n",
        "FROM\n",
        "    shape_a a\n",
        "INNER JOIN shape_b b ON a.shape = b.shape;\n",
        "```\n",
        "W zapytaniu powyżej użyto *aliasów* nazw tabel i column wynikowych, jest to szczególnie przydatne przy długich nazwach tabel i wprowadza czytelność w zapytaniu.\n",
        "\n",
        "#### Wynik:\n",
        "|id_a|shape_a|id_b|shape_b|\n",
        "|-|-|-|-|\n",
        "|1|Trójkąt|2|Trójkąt|\n",
        "|2|Kwadrat|1|Kwadrat|"
      ]
    },
    {
      "cell_type": "markdown",
      "metadata": {
        "id": "0d7lPj42TRHK"
      },
      "source": [
        "## OUTER JOIN\n",
        "\n",
        "Istnieją trzy rodzaje złączeń OUTER:\n",
        "- LEFT OUTER JOIN,\n",
        "- RIGHT OUTER JOIN,\n",
        "- FULL OUTER JOIN.\n",
        "\n",
        "### LEFT OUTER JOIN\n",
        "\n",
        "Ten rodzaj złączenie zwróci wszystkie rekordy z lewej tablicy i dopasuje do nich rekordy z prawej tablicy które spełniją zadany warunek złączenia. Jeżeli w prawej tablicy nie występują rekordy spełnijące warunek złączenia z lewą w ich miejscu pojawią się wartości NULL.\n",
        "\n",
        "#### Przykład 1:\n",
        "```sql\n",
        "SELECT\n",
        "    a.id id_a,\n",
        "    a.shape shape_a,\n",
        "    b.id id_b,\n",
        "    b.shape shape_b\n",
        "FROM\n",
        "    shape_a a\n",
        "LEFT JOIN shape_b b ON a.shape = b.shape;\n",
        "```\n",
        "#### Wynik:\n",
        "|id_a|shape_a|id_b|shape_b|\n",
        "|-|-|-|-|\n",
        "|1|Trójkąt|2|Trójkąt|\n",
        "|2|Kwadrat|1|Kwadrat|\n",
        "|3|Deltoid|NULL|NULL|\n",
        "|4|Traper|NULL|NULL|\n",
        "\n",
        "#### Przykład 2:\n",
        "```sql\n",
        "SELECT\n",
        "    b.id id_b,\n",
        "    b.shape shape_b,\n",
        "    a.id id_a,\n",
        "    a.shape shape_a   \n",
        "FROM\n",
        "    shape_b b\n",
        "LEFT JOIN shape_a a ON a.shape = b.shape;\n",
        "```\n",
        "#### Wynik:\n",
        "|id_a|shape_a|id_b|shape_b|\n",
        "|-|-|-|-|\n",
        "|1|Kwadrat|2|Kwadrat|\n",
        "|2|Trójkąt|1|Trójkąt|\n",
        "|3|Romb|NULL|NULL|\n",
        "|4|Równoległobok|NULL|NULL|\n",
        "\n",
        "### RIGHT OUTER JOIN\n",
        "\n",
        "Działa jak left outer join z tym, że prawa tablica w zapytaniu jest brana w całości.\n",
        "\n",
        "#### Przykład:\n",
        "```sql\n",
        "SELECT\n",
        "    a.id id_a,\n",
        "    a.shape shape_a,\n",
        "    b.id id_b,\n",
        "    b.shape shape_b\n",
        "FROM\n",
        "    shape_a a\n",
        "RIGHT JOIN shape_b b ON a.shape = b.shape;\n",
        "```\n",
        "\n",
        "#### Wynik:\n",
        "|id_a|shape_a|id_b|shape_b|\n",
        "|-|-|-|-|\n",
        "|2|Kwadrat|1|Kwadrat|\n",
        "|1|Trójkąt|2|Trójkąt|\n",
        "|NULL|NULL|3|Romb|\n",
        "|NULL|NULL|4|Równoległobok|\n",
        "\n",
        "\n",
        "### FULL OUTER JOIN\n",
        "\n",
        "Jest złączeniem które zwraca:\n",
        "- wiersze dla których warunek złączenia jest spełniony,\n",
        "- wiersze z lewej tabeli dla których nie ma odpowiedników w prawej,\n",
        "- wiersze z prawej tabeli dla których nie ma odpowiedników w lewej. \n",
        "\n",
        "#### Przykład:\n",
        "```sql\n",
        "SELECT\n",
        "    a.id id_a,\n",
        "    a.shape shape_a,\n",
        "    b.id id_b,\n",
        "    b.shape shape_b\n",
        "FROM\n",
        "    shape_a a\n",
        "FULL JOIN shape_b b ON a.shape = b.shape;\n",
        "```\n",
        "|id_a|shape_a|id_b|shape_b|\n",
        "|-|-|-|-|\n",
        "|1|Trójkąt|2|Trójkąt|\n",
        "|2|Kwadrat|1|Kwadrat|\n",
        "|3|Deltoid\"|NULL|NULL|\n",
        "|4|Traper|NULL|NULL|\n",
        "|NULL|NULL|3|Romb|\n",
        "|NULL|NULL|4|Równoległobok|"
      ]
    },
    {
      "cell_type": "markdown",
      "metadata": {
        "id": "tzf4VrvgTRHM"
      },
      "source": [
        "## Podzapytania\n",
        "\n",
        "Podzapytanie zagnieżdżone SELECT znajduje się wewnątrz zewnętrznego zapytania SELECT, np. po klauzuli WHERE, HAVING lub FROM. W przypadku tego rodzaju zapytań w pierwszej kolejności wykonywane są wewnętrzne zapytania SELECT, a ich wynik jest wykorzystywany do zewnętrznego zapytania SELECT. Stąd łatwo zuważyć, że mogą one służyć do poprawy wydajności obsługi zapytania. Należy dobierać podzapytania tak by najbardziej zagnieżdżone podzapytanie zawierało najmniejszy zbiór poszukiwań. \n",
        "\n",
        "#### Przykład:\n",
        "Jeżeli chcemy znaleźć w bazie informację o tytułach filmów zwróconych w zadanym okresie możemy wykonać następujące zapytanie:\n",
        "```sql\n",
        "SELECT\n",
        "   film_id,\n",
        "   title\n",
        "FROM\n",
        "   film\n",
        "WHERE\n",
        "   film_id IN (\n",
        "      SELECT\n",
        "         inventory.film_id\n",
        "      FROM\n",
        "         rental\n",
        "      INNER JOIN inventory ON inventory.inventory_id = rental.inventory_id\n",
        "      WHERE\n",
        "         return_date BETWEEN '2005-05-29'\n",
        "      AND '2005-05-30'\n",
        "   );\n",
        "```\n",
        "\n",
        "#### Wynik\n",
        "|film_id|title|\n",
        "|-|-|\n",
        "|307|Fellowship Autumn|\n",
        "|255|Driving Polish|\n",
        "|388|Gunfight Moon|\n",
        "|130|Celebrity Horn|\n",
        "|563|Massacre Usual|\n",
        "|397|Hanky October|\n",
        "|...|...|\n",
        "\n",
        "### Używanie podzapytań\n",
        "\n",
        "Pod zapytania mogą być używane w :\n",
        "- SELECT,\n",
        "- UPDATE,\n",
        "- DELETE,\n",
        "- Funkcjach agregujących,\n",
        "- Do definiowania tabel tymczasowych.\n",
        "\n",
        "Używając podzapytań zapytania SQL szybko mogą stać się mało czytelne. Przez co będą trudne w zrozumieniu i późniejszym utrzymaniu. W celu analizy zapytań można użyć klauzuli __EXPLAIN__, która przeanalizuje zapytanie. Klauzula ta może służyć również do porównywania wydajności zapytań\n",
        "\n",
        "#### Przykład:\n",
        "```sql\n",
        "EXPLAIN SELECT\n",
        "   *\n",
        "FROM\n",
        "   film\n",
        "```"
      ]
    },
    {
      "cell_type": "markdown",
      "metadata": {
        "id": "-Oscw9XqTRHN"
      },
      "source": [
        "## Funkcje agregujące\n",
        "\n",
        "Funkcje agregujące wykonują obliczenia na zestawie wierszy i zwracają pojedynczy wiersz. PostgreSQL udostępnia wszystkie standardowe funkcje agregujące SQL w następujący sposób:\n",
        "- AVG () - zwraca średnią wartość.\n",
        "- COUNT () - zwraca liczbę wartości.\n",
        "- MAX () - zwraca maksymalną wartość.\n",
        "- MIN () - zwraca minimalną wartość.\n",
        "- SUM () - zwraca sumę wszystkich lub różnych wartości.\n",
        "\n",
        "Pełna lista funkcji agregującej: https://www.postgresql.org/docs/9.5/functions-aggregate.html\n",
        "\n",
        "Często używamy funkcji agregujących z klauzulą GROUP BY w instrukcji SELECT. W tych przypadkach klauzula GROUP BY dzieli zestaw wyników na grupy wierszy i funkcja agregująca wykonuje obliczenia dla każdej grupy, np. maksimum, minimum, średnia itp. Funkcji agregujących można używać funkcji agregujących jako wyrażeń tylko w następujących klauzulach: SELECT i HAVING.\n",
        "\n",
        "### GROUP BY\n",
        "Klauzula GROUP BY dzieli wiersze zwrócone z instrukcji SELECT na grupy. Dla  każdej grupy można zastosować funkcję agregującą, np. SUM aby obliczyć sumę pozycji lub\n",
        "COUNT aby uzyskać liczbę elementów w grupach.\n",
        "\n",
        "Poniższa instrukcja ilustruje składnię klauzuli GROUP BY:\n",
        "```sql\n",
        "SELECT \n",
        "    column_1, \n",
        "    aggregate_function(column_2)\n",
        "FROM \n",
        "    tbl_name\n",
        "GROUP BY \n",
        "    column_1;\n",
        "```\n",
        "Klauzula GROUP BY musi pojawić się zaraz po klauzuli FROM lub WHERE, n0astępnie GROUP BY zawiera listę  kolumna oddzielonych przecinkami. \n",
        "\n",
        "### HAVING\n",
        "Często używamy klauzuli HAVING w połączeniu z klauzulą GROUP BY do filtrowania wierszy grup\n",
        "które nie spełniają określonego warunku.\n",
        "\n",
        "Poniższa instrukcja ilustruje typową składnię klauzuli HAVING:\n",
        "```sql\n",
        "SELECT\n",
        "    column_1,\n",
        "    aggregate_function (column_2)\n",
        "FROM\n",
        "    tbl_name\n",
        "GROUP BY\n",
        "    column_1\n",
        "HAVING\n",
        "    condition;\n",
        "```\n",
        "Klauzula HAVING ustawia warunek dla wierszy grup utworzonych przez klauzulę GROUP BY.  \n",
        "\n",
        "Klauzula GROUP BY ma zastosowanie, podczas gdy klauzula WHERE określa wcześniej warunki dla poszczególnych wierszy."
      ]
    },
    {
      "cell_type": "markdown",
      "metadata": {
        "id": "94rDYZPkTRHO"
      },
      "source": [
        "## Zadania wprowadzające\n",
        "Wykonaj zapytania przy użyciu DBMS:  \n",
        "  \n",
        "1. Znajdź listę wszystkich filmów o tej samej długości.\n",
        "2. Znajdź wszystkich klientów mieszkających w tym samym mieście.\n",
        "3. Oblicz średni koszt wypożyczenia wszystkich filmów.\n",
        "4. Oblicz i wyświetl liczbę filmów we wszystkich kategoriach.\n",
        "5. Wyświetl liczbę wszystkich klientów pogrupowanych według kraju.\n",
        "6. Wyświetl informacje o sklepie, który ma więcej niż 100 klientów i mniej niż 300 klientów.\n",
        "7. Wybierz wszystkich klientów, którzy oglądali filmy ponad 200 godzin.\n",
        "8. Oblicz średnią wartość wypożyczenia filmu.\n",
        "9. Oblicz średnią wartość długości filmu we wszystkich kategoriach.\n",
        "10. Znajdź najdłuższe tytuły filmowe we wszystkich kategoriach.\n",
        "11. Znajdź najdłuższy film we wszystkich kategoriach. Porównaj wynik z pkt 10."
      ]
    },
    {
      "cell_type": "code",
      "metadata": {
        "colab": {
          "base_uri": "https://localhost:8080/"
        },
        "id": "huWVbixZTmZV",
        "outputId": "4f5c8728-bbe0-47a4-d226-efa24919c4d2"
      },
      "source": [
        "import main"
      ],
      "execution_count": null,
      "outputs": [
        {
          "output_type": "stream",
          "name": "stderr",
          "text": [
            "/usr/local/lib/python3.7/dist-packages/psycopg2/__init__.py:144: UserWarning: The psycopg2 wheel package will be renamed from release 2.8; in order to keep installing from binary please use \"pip install psycopg2-binary\" instead. For details see: <http://initd.org/psycopg/docs/install.html#binary-install-from-pypi>.\n",
            "  \"\"\")\n"
          ]
        }
      ]
    },
    {
      "cell_type": "code",
      "metadata": {
        "id": "a1U0h-yLYsFF"
      },
      "source": [
        "import psycopg2 as pg\n",
        "import pandas.io.sql as psql\n",
        "import pandas as pd\n",
        "connection = pg.connect(host='pgsql-196447.vipserv.org', port=5432, dbname='wbauer_adb', user='wbauer_adb',\n",
        "                        password='adb2020');\n"
      ],
      "execution_count": null,
      "outputs": []
    },
    {
      "cell_type": "markdown",
      "metadata": {
        "id": "Sj_FPP_vYF1D"
      },
      "source": [
        "1)"
      ]
    },
    {
      "cell_type": "code",
      "metadata": {
        "id": "ASYBXYBsYG3H"
      },
      "source": [
        "df = pd.read_sql('select * from film where film.length = 73', con=connection)"
      ],
      "execution_count": null,
      "outputs": []
    },
    {
      "cell_type": "code",
      "metadata": {
        "colab": {
          "base_uri": "https://localhost:8080/",
          "height": 1000
        },
        "id": "tJINEblPYz9b",
        "outputId": "f0a67a15-fac2-40cf-9baf-a95309d8fb5b"
      },
      "source": [
        "df"
      ],
      "execution_count": null,
      "outputs": [
        {
          "output_type": "execute_result",
          "data": {
            "text/html": [
              "<div>\n",
              "<style scoped>\n",
              "    .dataframe tbody tr th:only-of-type {\n",
              "        vertical-align: middle;\n",
              "    }\n",
              "\n",
              "    .dataframe tbody tr th {\n",
              "        vertical-align: top;\n",
              "    }\n",
              "\n",
              "    .dataframe thead th {\n",
              "        text-align: right;\n",
              "    }\n",
              "</style>\n",
              "<table border=\"1\" class=\"dataframe\">\n",
              "  <thead>\n",
              "    <tr style=\"text-align: right;\">\n",
              "      <th></th>\n",
              "      <th>film_id</th>\n",
              "      <th>title</th>\n",
              "      <th>description</th>\n",
              "      <th>release_year</th>\n",
              "      <th>language_id</th>\n",
              "      <th>rental_duration</th>\n",
              "      <th>rental_rate</th>\n",
              "      <th>length</th>\n",
              "      <th>replacement_cost</th>\n",
              "      <th>rating</th>\n",
              "      <th>last_update</th>\n",
              "      <th>special_features</th>\n",
              "      <th>fulltext</th>\n",
              "    </tr>\n",
              "  </thead>\n",
              "  <tbody>\n",
              "    <tr>\n",
              "      <th>0</th>\n",
              "      <td>98</td>\n",
              "      <td>Bright Encounters</td>\n",
              "      <td>A Fateful Yarn of a Lumberjack And a Feminist ...</td>\n",
              "      <td>2006</td>\n",
              "      <td>1</td>\n",
              "      <td>4</td>\n",
              "      <td>4.99</td>\n",
              "      <td>73</td>\n",
              "      <td>12.99</td>\n",
              "      <td>PG-13</td>\n",
              "      <td>2013-05-26 14:50:58.951</td>\n",
              "      <td>[Trailers]</td>\n",
              "      <td>'boat':20 'bright':1 'conquer':14 'encount':2 ...</td>\n",
              "    </tr>\n",
              "    <tr>\n",
              "      <th>1</th>\n",
              "      <td>63</td>\n",
              "      <td>Bedazzled Married</td>\n",
              "      <td>A Astounding Character Study of a Madman And a...</td>\n",
              "      <td>2006</td>\n",
              "      <td>1</td>\n",
              "      <td>6</td>\n",
              "      <td>0.99</td>\n",
              "      <td>73</td>\n",
              "      <td>21.99</td>\n",
              "      <td>PG</td>\n",
              "      <td>2013-05-26 14:50:58.951</td>\n",
              "      <td>[Trailers, Deleted Scenes, Behind the Scenes]</td>\n",
              "      <td>'abandon':21 'astound':4 'bedazzl':1 'charact'...</td>\n",
              "    </tr>\n",
              "    <tr>\n",
              "      <th>2</th>\n",
              "      <td>101</td>\n",
              "      <td>Brotherhood Blanket</td>\n",
              "      <td>A Fateful Character Study of a Butler And a Te...</td>\n",
              "      <td>2006</td>\n",
              "      <td>1</td>\n",
              "      <td>3</td>\n",
              "      <td>0.99</td>\n",
              "      <td>73</td>\n",
              "      <td>26.99</td>\n",
              "      <td>R</td>\n",
              "      <td>2013-05-26 14:50:58.951</td>\n",
              "      <td>[Behind the Scenes]</td>\n",
              "      <td>'ancient':20 'astronaut':18 'blanket':2 'broth...</td>\n",
              "    </tr>\n",
              "    <tr>\n",
              "      <th>3</th>\n",
              "      <td>337</td>\n",
              "      <td>Frida Slipper</td>\n",
              "      <td>A Fateful Story of a Lumberjack And a Car who ...</td>\n",
              "      <td>2006</td>\n",
              "      <td>1</td>\n",
              "      <td>6</td>\n",
              "      <td>2.99</td>\n",
              "      <td>73</td>\n",
              "      <td>11.99</td>\n",
              "      <td>R</td>\n",
              "      <td>2013-05-26 14:50:58.951</td>\n",
              "      <td>[Trailers, Deleted Scenes]</td>\n",
              "      <td>'abandon':19 'boat':16 'car':11 'escap':14 'fa...</td>\n",
              "    </tr>\n",
              "    <tr>\n",
              "      <th>4</th>\n",
              "      <td>364</td>\n",
              "      <td>Godfather Diary</td>\n",
              "      <td>A Stunning Saga of a Lumberjack And a Squirrel...</td>\n",
              "      <td>2006</td>\n",
              "      <td>1</td>\n",
              "      <td>3</td>\n",
              "      <td>2.99</td>\n",
              "      <td>73</td>\n",
              "      <td>14.99</td>\n",
              "      <td>NC-17</td>\n",
              "      <td>2013-05-26 14:50:58.951</td>\n",
              "      <td>[Trailers]</td>\n",
              "      <td>'car':16 'chase':14 'diari':2 'godfath':1 'lum...</td>\n",
              "    </tr>\n",
              "    <tr>\n",
              "      <th>5</th>\n",
              "      <td>611</td>\n",
              "      <td>Musketeers Wait</td>\n",
              "      <td>A Touching Yarn of a Student And a Moose who m...</td>\n",
              "      <td>2006</td>\n",
              "      <td>1</td>\n",
              "      <td>7</td>\n",
              "      <td>4.99</td>\n",
              "      <td>73</td>\n",
              "      <td>17.99</td>\n",
              "      <td>PG</td>\n",
              "      <td>2013-05-26 14:50:58.951</td>\n",
              "      <td>[Deleted Scenes, Behind the Scenes]</td>\n",
              "      <td>'australia':19 'cow':17 'fight':14 'mad':16 'm...</td>\n",
              "    </tr>\n",
              "    <tr>\n",
              "      <th>6</th>\n",
              "      <td>714</td>\n",
              "      <td>Random Go</td>\n",
              "      <td>A Fateful Drama of a Frisbee And a Student who...</td>\n",
              "      <td>2006</td>\n",
              "      <td>1</td>\n",
              "      <td>6</td>\n",
              "      <td>2.99</td>\n",
              "      <td>73</td>\n",
              "      <td>29.99</td>\n",
              "      <td>NC-17</td>\n",
              "      <td>2013-05-26 14:50:58.951</td>\n",
              "      <td>[Trailers]</td>\n",
              "      <td>'cat':16 'confront':14 'drama':5 'fate':4 'fri...</td>\n",
              "    </tr>\n",
              "    <tr>\n",
              "      <th>7</th>\n",
              "      <td>718</td>\n",
              "      <td>Rebel Airport</td>\n",
              "      <td>A Intrepid Yarn of a Database Administrator An...</td>\n",
              "      <td>2006</td>\n",
              "      <td>1</td>\n",
              "      <td>7</td>\n",
              "      <td>0.99</td>\n",
              "      <td>73</td>\n",
              "      <td>24.99</td>\n",
              "      <td>G</td>\n",
              "      <td>2013-05-26 14:50:58.951</td>\n",
              "      <td>[Trailers, Behind the Scenes]</td>\n",
              "      <td>'administr':9 'airport':2 'ancient':19 'boat':...</td>\n",
              "    </tr>\n",
              "    <tr>\n",
              "      <th>8</th>\n",
              "      <td>759</td>\n",
              "      <td>Salute Apollo</td>\n",
              "      <td>A Awe-Inspiring Character Study of a Boy And a...</td>\n",
              "      <td>2006</td>\n",
              "      <td>1</td>\n",
              "      <td>4</td>\n",
              "      <td>2.99</td>\n",
              "      <td>73</td>\n",
              "      <td>29.99</td>\n",
              "      <td>R</td>\n",
              "      <td>2013-05-26 14:50:58.951</td>\n",
              "      <td>[Trailers, Commentaries, Deleted Scenes, Behin...</td>\n",
              "      <td>'ancient':21 'apollo':2 'awe':5 'awe-inspir':4...</td>\n",
              "    </tr>\n",
              "    <tr>\n",
              "      <th>9</th>\n",
              "      <td>856</td>\n",
              "      <td>Streetcar Intentions</td>\n",
              "      <td>A Insightful Character Study of a Waitress And...</td>\n",
              "      <td>2006</td>\n",
              "      <td>1</td>\n",
              "      <td>5</td>\n",
              "      <td>4.99</td>\n",
              "      <td>73</td>\n",
              "      <td>11.99</td>\n",
              "      <td>R</td>\n",
              "      <td>2013-05-26 14:50:58.951</td>\n",
              "      <td>[Commentaries]</td>\n",
              "      <td>'charact':5 'crocodil':12 'gulf':20 'insight':...</td>\n",
              "    </tr>\n",
              "    <tr>\n",
              "      <th>10</th>\n",
              "      <td>932</td>\n",
              "      <td>Valley Packer</td>\n",
              "      <td>A Astounding Documentary of a Astronaut And a ...</td>\n",
              "      <td>2006</td>\n",
              "      <td>1</td>\n",
              "      <td>3</td>\n",
              "      <td>0.99</td>\n",
              "      <td>73</td>\n",
              "      <td>21.99</td>\n",
              "      <td>G</td>\n",
              "      <td>2013-05-26 14:50:58.951</td>\n",
              "      <td>[Commentaries, Deleted Scenes]</td>\n",
              "      <td>'astound':4 'astronaut':8 'berlin':19 'boy':11...</td>\n",
              "    </tr>\n",
              "    <tr>\n",
              "      <th>11</th>\n",
              "      <td>954</td>\n",
              "      <td>Wake Jaws</td>\n",
              "      <td>A Beautiful Saga of a Feminist And a Composer ...</td>\n",
              "      <td>2006</td>\n",
              "      <td>1</td>\n",
              "      <td>7</td>\n",
              "      <td>4.99</td>\n",
              "      <td>73</td>\n",
              "      <td>18.99</td>\n",
              "      <td>G</td>\n",
              "      <td>2013-05-26 14:50:58.951</td>\n",
              "      <td>[Trailers, Commentaries, Deleted Scenes, Behin...</td>\n",
              "      <td>'beauti':4 'berlin':18 'challeng':14 'compos':...</td>\n",
              "    </tr>\n",
              "  </tbody>\n",
              "</table>\n",
              "</div>"
            ],
            "text/plain": [
              "    film_id  ...                                           fulltext\n",
              "0        98  ...  'boat':20 'bright':1 'conquer':14 'encount':2 ...\n",
              "1        63  ...  'abandon':21 'astound':4 'bedazzl':1 'charact'...\n",
              "2       101  ...  'ancient':20 'astronaut':18 'blanket':2 'broth...\n",
              "3       337  ...  'abandon':19 'boat':16 'car':11 'escap':14 'fa...\n",
              "4       364  ...  'car':16 'chase':14 'diari':2 'godfath':1 'lum...\n",
              "5       611  ...  'australia':19 'cow':17 'fight':14 'mad':16 'm...\n",
              "6       714  ...  'cat':16 'confront':14 'drama':5 'fate':4 'fri...\n",
              "7       718  ...  'administr':9 'airport':2 'ancient':19 'boat':...\n",
              "8       759  ...  'ancient':21 'apollo':2 'awe':5 'awe-inspir':4...\n",
              "9       856  ...  'charact':5 'crocodil':12 'gulf':20 'insight':...\n",
              "10      932  ...  'astound':4 'astronaut':8 'berlin':19 'boy':11...\n",
              "11      954  ...  'beauti':4 'berlin':18 'challeng':14 'compos':...\n",
              "\n",
              "[12 rows x 13 columns]"
            ]
          },
          "metadata": {},
          "execution_count": 26
        }
      ]
    },
    {
      "cell_type": "markdown",
      "metadata": {
        "id": "umFlm8IKZJAa"
      },
      "source": [
        "2)"
      ]
    },
    {
      "cell_type": "code",
      "metadata": {
        "colab": {
          "base_uri": "https://localhost:8080/",
          "height": 81
        },
        "id": "zaUlXk7eZJQv",
        "outputId": "e6900fe6-2a08-44cd-9f87-1e7e5e543295"
      },
      "source": [
        "main.client_from_city('Athenai')"
      ],
      "execution_count": null,
      "outputs": [
        {
          "output_type": "execute_result",
          "data": {
            "text/html": [
              "<div>\n",
              "<style scoped>\n",
              "    .dataframe tbody tr th:only-of-type {\n",
              "        vertical-align: middle;\n",
              "    }\n",
              "\n",
              "    .dataframe tbody tr th {\n",
              "        vertical-align: top;\n",
              "    }\n",
              "\n",
              "    .dataframe thead th {\n",
              "        text-align: right;\n",
              "    }\n",
              "</style>\n",
              "<table border=\"1\" class=\"dataframe\">\n",
              "  <thead>\n",
              "    <tr style=\"text-align: right;\">\n",
              "      <th></th>\n",
              "      <th>city</th>\n",
              "      <th>first_name</th>\n",
              "      <th>last_name</th>\n",
              "    </tr>\n",
              "  </thead>\n",
              "  <tbody>\n",
              "    <tr>\n",
              "      <th>0</th>\n",
              "      <td>Athenai</td>\n",
              "      <td>Linda</td>\n",
              "      <td>Williams</td>\n",
              "    </tr>\n",
              "  </tbody>\n",
              "</table>\n",
              "</div>"
            ],
            "text/plain": [
              "      city first_name last_name\n",
              "0  Athenai      Linda  Williams"
            ]
          },
          "metadata": {},
          "execution_count": 27
        }
      ]
    },
    {
      "cell_type": "markdown",
      "metadata": {
        "id": "ZdqIJdRjZqcM"
      },
      "source": [
        "3)"
      ]
    },
    {
      "cell_type": "code",
      "metadata": {
        "id": "R4oRWYgyZJZD"
      },
      "source": [
        "df = pd.read_sql('''select film.title, avg(payment.amount)\n",
        "                    from film\n",
        "                    inner join inventory on inventory.film_id = film.film_id\n",
        "                    inner join rental on rental.inventory_id = inventory.inventory_id\n",
        "                    inner join payment on payment.rental_id = rental.rental_id\n",
        "                    group by film.title''', con=connection)"
      ],
      "execution_count": null,
      "outputs": []
    },
    {
      "cell_type": "code",
      "metadata": {
        "colab": {
          "base_uri": "https://localhost:8080/",
          "height": 424
        },
        "id": "mGgp6GB_Zpx1",
        "outputId": "d2a73daf-5ebc-431a-e7ba-5151b8e028cf"
      },
      "source": [
        "df"
      ],
      "execution_count": null,
      "outputs": [
        {
          "output_type": "execute_result",
          "data": {
            "text/html": [
              "<div>\n",
              "<style scoped>\n",
              "    .dataframe tbody tr th:only-of-type {\n",
              "        vertical-align: middle;\n",
              "    }\n",
              "\n",
              "    .dataframe tbody tr th {\n",
              "        vertical-align: top;\n",
              "    }\n",
              "\n",
              "    .dataframe thead th {\n",
              "        text-align: right;\n",
              "    }\n",
              "</style>\n",
              "<table border=\"1\" class=\"dataframe\">\n",
              "  <thead>\n",
              "    <tr style=\"text-align: right;\">\n",
              "      <th></th>\n",
              "      <th>title</th>\n",
              "      <th>avg</th>\n",
              "    </tr>\n",
              "  </thead>\n",
              "  <tbody>\n",
              "    <tr>\n",
              "      <th>0</th>\n",
              "      <td>Frontier Cabin</td>\n",
              "      <td>5.990000</td>\n",
              "    </tr>\n",
              "    <tr>\n",
              "      <th>1</th>\n",
              "      <td>Arachnophobia Rollercoaster</td>\n",
              "      <td>4.772609</td>\n",
              "    </tr>\n",
              "    <tr>\n",
              "      <th>2</th>\n",
              "      <td>Cruelty Unforgiven</td>\n",
              "      <td>1.156667</td>\n",
              "    </tr>\n",
              "    <tr>\n",
              "      <th>3</th>\n",
              "      <td>Intolerable Intentions</td>\n",
              "      <td>5.704286</td>\n",
              "    </tr>\n",
              "    <tr>\n",
              "      <th>4</th>\n",
              "      <td>Monsoon Cause</td>\n",
              "      <td>6.101111</td>\n",
              "    </tr>\n",
              "    <tr>\n",
              "      <th>...</th>\n",
              "      <td>...</td>\n",
              "      <td>...</td>\n",
              "    </tr>\n",
              "    <tr>\n",
              "      <th>953</th>\n",
              "      <td>Reef Salute</td>\n",
              "      <td>2.171818</td>\n",
              "    </tr>\n",
              "    <tr>\n",
              "      <th>954</th>\n",
              "      <td>Bugsy Song</td>\n",
              "      <td>5.101111</td>\n",
              "    </tr>\n",
              "    <tr>\n",
              "      <th>955</th>\n",
              "      <td>Orient Closer</td>\n",
              "      <td>4.754706</td>\n",
              "    </tr>\n",
              "    <tr>\n",
              "      <th>956</th>\n",
              "      <td>Brotherhood Blanket</td>\n",
              "      <td>4.294348</td>\n",
              "    </tr>\n",
              "    <tr>\n",
              "      <th>957</th>\n",
              "      <td>Boulevard Mob</td>\n",
              "      <td>3.552500</td>\n",
              "    </tr>\n",
              "  </tbody>\n",
              "</table>\n",
              "<p>958 rows × 2 columns</p>\n",
              "</div>"
            ],
            "text/plain": [
              "                           title       avg\n",
              "0                 Frontier Cabin  5.990000\n",
              "1    Arachnophobia Rollercoaster  4.772609\n",
              "2             Cruelty Unforgiven  1.156667\n",
              "3         Intolerable Intentions  5.704286\n",
              "4                  Monsoon Cause  6.101111\n",
              "..                           ...       ...\n",
              "953                  Reef Salute  2.171818\n",
              "954                   Bugsy Song  5.101111\n",
              "955                Orient Closer  4.754706\n",
              "956          Brotherhood Blanket  4.294348\n",
              "957                Boulevard Mob  3.552500\n",
              "\n",
              "[958 rows x 2 columns]"
            ]
          },
          "metadata": {},
          "execution_count": 86
        }
      ]
    },
    {
      "cell_type": "markdown",
      "metadata": {
        "id": "yxl9YHfTax0R"
      },
      "source": [
        "4)\n"
      ]
    },
    {
      "cell_type": "code",
      "metadata": {
        "id": "219ALPXLZpz9"
      },
      "source": [
        "df = pd.read_sql('''select category.name as category, count(film.title)\n",
        "                    from film\n",
        "                    inner join film_category on film_category.film_id = film.film_id\n",
        "                    inner join category on category.category_id = film_category.category_id\n",
        "                    group by category''', con=connection)\n"
      ],
      "execution_count": null,
      "outputs": []
    },
    {
      "cell_type": "code",
      "metadata": {
        "colab": {
          "base_uri": "https://localhost:8080/",
          "height": 551
        },
        "id": "HvcJQ4P-Zp5Z",
        "outputId": "5219c53e-7c7f-4335-907c-c57671fb8ba2"
      },
      "source": [
        "df"
      ],
      "execution_count": null,
      "outputs": [
        {
          "output_type": "execute_result",
          "data": {
            "text/html": [
              "<div>\n",
              "<style scoped>\n",
              "    .dataframe tbody tr th:only-of-type {\n",
              "        vertical-align: middle;\n",
              "    }\n",
              "\n",
              "    .dataframe tbody tr th {\n",
              "        vertical-align: top;\n",
              "    }\n",
              "\n",
              "    .dataframe thead th {\n",
              "        text-align: right;\n",
              "    }\n",
              "</style>\n",
              "<table border=\"1\" class=\"dataframe\">\n",
              "  <thead>\n",
              "    <tr style=\"text-align: right;\">\n",
              "      <th></th>\n",
              "      <th>category</th>\n",
              "      <th>count</th>\n",
              "    </tr>\n",
              "  </thead>\n",
              "  <tbody>\n",
              "    <tr>\n",
              "      <th>0</th>\n",
              "      <td>Horror</td>\n",
              "      <td>56</td>\n",
              "    </tr>\n",
              "    <tr>\n",
              "      <th>1</th>\n",
              "      <td>Comedy</td>\n",
              "      <td>58</td>\n",
              "    </tr>\n",
              "    <tr>\n",
              "      <th>2</th>\n",
              "      <td>Sci-Fi</td>\n",
              "      <td>61</td>\n",
              "    </tr>\n",
              "    <tr>\n",
              "      <th>3</th>\n",
              "      <td>Drama</td>\n",
              "      <td>62</td>\n",
              "    </tr>\n",
              "    <tr>\n",
              "      <th>4</th>\n",
              "      <td>Foreign</td>\n",
              "      <td>73</td>\n",
              "    </tr>\n",
              "    <tr>\n",
              "      <th>5</th>\n",
              "      <td>Classics</td>\n",
              "      <td>57</td>\n",
              "    </tr>\n",
              "    <tr>\n",
              "      <th>6</th>\n",
              "      <td>Games</td>\n",
              "      <td>61</td>\n",
              "    </tr>\n",
              "    <tr>\n",
              "      <th>7</th>\n",
              "      <td>New</td>\n",
              "      <td>63</td>\n",
              "    </tr>\n",
              "    <tr>\n",
              "      <th>8</th>\n",
              "      <td>Travel</td>\n",
              "      <td>57</td>\n",
              "    </tr>\n",
              "    <tr>\n",
              "      <th>9</th>\n",
              "      <td>Music</td>\n",
              "      <td>51</td>\n",
              "    </tr>\n",
              "    <tr>\n",
              "      <th>10</th>\n",
              "      <td>Action</td>\n",
              "      <td>64</td>\n",
              "    </tr>\n",
              "    <tr>\n",
              "      <th>11</th>\n",
              "      <td>Documentary</td>\n",
              "      <td>68</td>\n",
              "    </tr>\n",
              "    <tr>\n",
              "      <th>12</th>\n",
              "      <td>Sports</td>\n",
              "      <td>74</td>\n",
              "    </tr>\n",
              "    <tr>\n",
              "      <th>13</th>\n",
              "      <td>Animation</td>\n",
              "      <td>66</td>\n",
              "    </tr>\n",
              "    <tr>\n",
              "      <th>14</th>\n",
              "      <td>Family</td>\n",
              "      <td>69</td>\n",
              "    </tr>\n",
              "    <tr>\n",
              "      <th>15</th>\n",
              "      <td>Children</td>\n",
              "      <td>60</td>\n",
              "    </tr>\n",
              "  </tbody>\n",
              "</table>\n",
              "</div>"
            ],
            "text/plain": [
              "       category  count\n",
              "0        Horror     56\n",
              "1        Comedy     58\n",
              "2        Sci-Fi     61\n",
              "3         Drama     62\n",
              "4       Foreign     73\n",
              "5      Classics     57\n",
              "6         Games     61\n",
              "7           New     63\n",
              "8        Travel     57\n",
              "9         Music     51\n",
              "10       Action     64\n",
              "11  Documentary     68\n",
              "12       Sports     74\n",
              "13    Animation     66\n",
              "14       Family     69\n",
              "15     Children     60"
            ]
          },
          "metadata": {},
          "execution_count": 42
        }
      ]
    },
    {
      "cell_type": "markdown",
      "metadata": {
        "id": "IUmFJrOMcf-M"
      },
      "source": [
        "5)"
      ]
    },
    {
      "cell_type": "code",
      "metadata": {
        "id": "n_zbt13NZp7x"
      },
      "source": [
        "df = pd.read_sql('''select customer_list.country,count(*) \n",
        "                    from customer_list\n",
        "                    group by customer_list.country\n",
        "                    order by customer_list.country''', con=connection)"
      ],
      "execution_count": null,
      "outputs": []
    },
    {
      "cell_type": "code",
      "metadata": {
        "colab": {
          "base_uri": "https://localhost:8080/",
          "height": 424
        },
        "id": "y9lmEJlwZp9t",
        "outputId": "df58415d-e8a5-4e3f-bc7b-c995e3a32682"
      },
      "source": [
        "df"
      ],
      "execution_count": null,
      "outputs": [
        {
          "output_type": "execute_result",
          "data": {
            "text/html": [
              "<div>\n",
              "<style scoped>\n",
              "    .dataframe tbody tr th:only-of-type {\n",
              "        vertical-align: middle;\n",
              "    }\n",
              "\n",
              "    .dataframe tbody tr th {\n",
              "        vertical-align: top;\n",
              "    }\n",
              "\n",
              "    .dataframe thead th {\n",
              "        text-align: right;\n",
              "    }\n",
              "</style>\n",
              "<table border=\"1\" class=\"dataframe\">\n",
              "  <thead>\n",
              "    <tr style=\"text-align: right;\">\n",
              "      <th></th>\n",
              "      <th>country</th>\n",
              "      <th>count</th>\n",
              "    </tr>\n",
              "  </thead>\n",
              "  <tbody>\n",
              "    <tr>\n",
              "      <th>0</th>\n",
              "      <td>Afghanistan</td>\n",
              "      <td>1</td>\n",
              "    </tr>\n",
              "    <tr>\n",
              "      <th>1</th>\n",
              "      <td>Algeria</td>\n",
              "      <td>3</td>\n",
              "    </tr>\n",
              "    <tr>\n",
              "      <th>2</th>\n",
              "      <td>American Samoa</td>\n",
              "      <td>1</td>\n",
              "    </tr>\n",
              "    <tr>\n",
              "      <th>3</th>\n",
              "      <td>Angola</td>\n",
              "      <td>2</td>\n",
              "    </tr>\n",
              "    <tr>\n",
              "      <th>4</th>\n",
              "      <td>Anguilla</td>\n",
              "      <td>1</td>\n",
              "    </tr>\n",
              "    <tr>\n",
              "      <th>...</th>\n",
              "      <td>...</td>\n",
              "      <td>...</td>\n",
              "    </tr>\n",
              "    <tr>\n",
              "      <th>103</th>\n",
              "      <td>Vietnam</td>\n",
              "      <td>6</td>\n",
              "    </tr>\n",
              "    <tr>\n",
              "      <th>104</th>\n",
              "      <td>Virgin Islands, U.S.</td>\n",
              "      <td>1</td>\n",
              "    </tr>\n",
              "    <tr>\n",
              "      <th>105</th>\n",
              "      <td>Yemen</td>\n",
              "      <td>4</td>\n",
              "    </tr>\n",
              "    <tr>\n",
              "      <th>106</th>\n",
              "      <td>Yugoslavia</td>\n",
              "      <td>2</td>\n",
              "    </tr>\n",
              "    <tr>\n",
              "      <th>107</th>\n",
              "      <td>Zambia</td>\n",
              "      <td>1</td>\n",
              "    </tr>\n",
              "  </tbody>\n",
              "</table>\n",
              "<p>108 rows × 2 columns</p>\n",
              "</div>"
            ],
            "text/plain": [
              "                  country  count\n",
              "0             Afghanistan      1\n",
              "1                 Algeria      3\n",
              "2          American Samoa      1\n",
              "3                  Angola      2\n",
              "4                Anguilla      1\n",
              "..                    ...    ...\n",
              "103               Vietnam      6\n",
              "104  Virgin Islands, U.S.      1\n",
              "105                 Yemen      4\n",
              "106            Yugoslavia      2\n",
              "107                Zambia      1\n",
              "\n",
              "[108 rows x 2 columns]"
            ]
          },
          "metadata": {},
          "execution_count": 56
        }
      ]
    },
    {
      "cell_type": "markdown",
      "metadata": {
        "id": "vKjKHvsHek_M"
      },
      "source": [
        "6)"
      ]
    },
    {
      "cell_type": "code",
      "metadata": {
        "id": "E_auvScnekkM"
      },
      "source": [
        "df = pd.read_sql('''select store.store_id,store.manager_staff_id,store.address_id,store.last_update\n",
        "                    from store\n",
        "                    inner join customer on customer.store_id = store.store_id\n",
        "                    group by store.store_id\n",
        "                    having count(customer.customer_id) > 100 and count(customer.customer_id) < 300''', con=connection)"
      ],
      "execution_count": null,
      "outputs": []
    },
    {
      "cell_type": "code",
      "metadata": {
        "colab": {
          "base_uri": "https://localhost:8080/",
          "height": 81
        },
        "id": "N_q_HW7deknP",
        "outputId": "8d18a067-7a40-4045-caf4-07deb4881bc2"
      },
      "source": [
        "df"
      ],
      "execution_count": null,
      "outputs": [
        {
          "output_type": "execute_result",
          "data": {
            "text/html": [
              "<div>\n",
              "<style scoped>\n",
              "    .dataframe tbody tr th:only-of-type {\n",
              "        vertical-align: middle;\n",
              "    }\n",
              "\n",
              "    .dataframe tbody tr th {\n",
              "        vertical-align: top;\n",
              "    }\n",
              "\n",
              "    .dataframe thead th {\n",
              "        text-align: right;\n",
              "    }\n",
              "</style>\n",
              "<table border=\"1\" class=\"dataframe\">\n",
              "  <thead>\n",
              "    <tr style=\"text-align: right;\">\n",
              "      <th></th>\n",
              "      <th>store_id</th>\n",
              "      <th>manager_staff_id</th>\n",
              "      <th>address_id</th>\n",
              "      <th>last_update</th>\n",
              "    </tr>\n",
              "  </thead>\n",
              "  <tbody>\n",
              "    <tr>\n",
              "      <th>0</th>\n",
              "      <td>2</td>\n",
              "      <td>2</td>\n",
              "      <td>2</td>\n",
              "      <td>2006-02-15 09:57:12</td>\n",
              "    </tr>\n",
              "  </tbody>\n",
              "</table>\n",
              "</div>"
            ],
            "text/plain": [
              "   store_id  manager_staff_id  address_id         last_update\n",
              "0         2                 2           2 2006-02-15 09:57:12"
            ]
          },
          "metadata": {},
          "execution_count": 81
        }
      ]
    },
    {
      "cell_type": "markdown",
      "metadata": {
        "id": "gkFxpkqMiBph"
      },
      "source": [
        "7)"
      ]
    },
    {
      "cell_type": "code",
      "metadata": {
        "id": "60JH6s0fiC9D"
      },
      "source": [
        "df = pd.read_sql('''select customer\n",
        "                    from film\n",
        "                    inner join inventory on inventory.film_id = film.film_id \n",
        "                    inner join rental on rental.inventory_id = inventory.inventory_id\n",
        "                    inner join customer on customer.customer_id = rental.customer_id\n",
        "                    group by customer\n",
        "                    having sum(film.length) > 200''', con=connection)"
      ],
      "execution_count": null,
      "outputs": []
    },
    {
      "cell_type": "code",
      "metadata": {
        "colab": {
          "base_uri": "https://localhost:8080/",
          "height": 424
        },
        "id": "RBnIzNU8iC_h",
        "outputId": "1a060f56-2c83-45c3-9959-7ad52db929bd"
      },
      "source": [
        "df"
      ],
      "execution_count": null,
      "outputs": [
        {
          "output_type": "execute_result",
          "data": {
            "text/html": [
              "<div>\n",
              "<style scoped>\n",
              "    .dataframe tbody tr th:only-of-type {\n",
              "        vertical-align: middle;\n",
              "    }\n",
              "\n",
              "    .dataframe tbody tr th {\n",
              "        vertical-align: top;\n",
              "    }\n",
              "\n",
              "    .dataframe thead th {\n",
              "        text-align: right;\n",
              "    }\n",
              "</style>\n",
              "<table border=\"1\" class=\"dataframe\">\n",
              "  <thead>\n",
              "    <tr style=\"text-align: right;\">\n",
              "      <th></th>\n",
              "      <th>customer</th>\n",
              "    </tr>\n",
              "  </thead>\n",
              "  <tbody>\n",
              "    <tr>\n",
              "      <th>0</th>\n",
              "      <td>(1,1,Mary,Smith,mary.smith@sakilacustomer.org,...</td>\n",
              "    </tr>\n",
              "    <tr>\n",
              "      <th>1</th>\n",
              "      <td>(2,1,Patricia,Johnson,patricia.johnson@sakilac...</td>\n",
              "    </tr>\n",
              "    <tr>\n",
              "      <th>2</th>\n",
              "      <td>(3,1,Linda,Williams,linda.williams@sakilacusto...</td>\n",
              "    </tr>\n",
              "    <tr>\n",
              "      <th>3</th>\n",
              "      <td>(4,2,Barbara,Jones,barbara.jones@sakilacustome...</td>\n",
              "    </tr>\n",
              "    <tr>\n",
              "      <th>4</th>\n",
              "      <td>(5,1,Elizabeth,Brown,elizabeth.brown@sakilacus...</td>\n",
              "    </tr>\n",
              "    <tr>\n",
              "      <th>...</th>\n",
              "      <td>...</td>\n",
              "    </tr>\n",
              "    <tr>\n",
              "      <th>594</th>\n",
              "      <td>(595,1,Terrence,Gunderson,terrence.gunderson@s...</td>\n",
              "    </tr>\n",
              "    <tr>\n",
              "      <th>595</th>\n",
              "      <td>(596,1,Enrique,Forsythe,enrique.forsythe@sakil...</td>\n",
              "    </tr>\n",
              "    <tr>\n",
              "      <th>596</th>\n",
              "      <td>(597,1,Freddie,Duggan,freddie.duggan@sakilacus...</td>\n",
              "    </tr>\n",
              "    <tr>\n",
              "      <th>597</th>\n",
              "      <td>(598,1,Wade,Delvalle,wade.delvalle@sakilacusto...</td>\n",
              "    </tr>\n",
              "    <tr>\n",
              "      <th>598</th>\n",
              "      <td>(599,2,Austin,Cintron,austin.cintron@sakilacus...</td>\n",
              "    </tr>\n",
              "  </tbody>\n",
              "</table>\n",
              "<p>599 rows × 1 columns</p>\n",
              "</div>"
            ],
            "text/plain": [
              "                                              customer\n",
              "0    (1,1,Mary,Smith,mary.smith@sakilacustomer.org,...\n",
              "1    (2,1,Patricia,Johnson,patricia.johnson@sakilac...\n",
              "2    (3,1,Linda,Williams,linda.williams@sakilacusto...\n",
              "3    (4,2,Barbara,Jones,barbara.jones@sakilacustome...\n",
              "4    (5,1,Elizabeth,Brown,elizabeth.brown@sakilacus...\n",
              "..                                                 ...\n",
              "594  (595,1,Terrence,Gunderson,terrence.gunderson@s...\n",
              "595  (596,1,Enrique,Forsythe,enrique.forsythe@sakil...\n",
              "596  (597,1,Freddie,Duggan,freddie.duggan@sakilacus...\n",
              "597  (598,1,Wade,Delvalle,wade.delvalle@sakilacusto...\n",
              "598  (599,2,Austin,Cintron,austin.cintron@sakilacus...\n",
              "\n",
              "[599 rows x 1 columns]"
            ]
          },
          "metadata": {},
          "execution_count": 144
        }
      ]
    },
    {
      "cell_type": "markdown",
      "metadata": {
        "id": "dQjC8pkLiUuU"
      },
      "source": [
        "8)"
      ]
    },
    {
      "cell_type": "code",
      "metadata": {
        "id": "mWNNG4ZBiDDo"
      },
      "source": [
        "df = pd.read_sql('''select avg(payment.amount)\n",
        "                    from film\n",
        "                    inner join inventory on inventory.film_id = film.film_id\n",
        "                    inner join rental on rental.inventory_id = inventory.inventory_id\n",
        "                    inner join payment on payment.rental_id = rental.rental_id''', con=connection)"
      ],
      "execution_count": null,
      "outputs": []
    },
    {
      "cell_type": "code",
      "metadata": {
        "colab": {
          "base_uri": "https://localhost:8080/",
          "height": 81
        },
        "id": "4PCgEqtCiDGf",
        "outputId": "1970cd05-55a3-4910-a1d5-797ea405cbe0"
      },
      "source": [
        "df"
      ],
      "execution_count": null,
      "outputs": [
        {
          "output_type": "execute_result",
          "data": {
            "text/html": [
              "<div>\n",
              "<style scoped>\n",
              "    .dataframe tbody tr th:only-of-type {\n",
              "        vertical-align: middle;\n",
              "    }\n",
              "\n",
              "    .dataframe tbody tr th {\n",
              "        vertical-align: top;\n",
              "    }\n",
              "\n",
              "    .dataframe thead th {\n",
              "        text-align: right;\n",
              "    }\n",
              "</style>\n",
              "<table border=\"1\" class=\"dataframe\">\n",
              "  <thead>\n",
              "    <tr style=\"text-align: right;\">\n",
              "      <th></th>\n",
              "      <th>avg</th>\n",
              "    </tr>\n",
              "  </thead>\n",
              "  <tbody>\n",
              "    <tr>\n",
              "      <th>0</th>\n",
              "      <td>4.200606</td>\n",
              "    </tr>\n",
              "  </tbody>\n",
              "</table>\n",
              "</div>"
            ],
            "text/plain": [
              "        avg\n",
              "0  4.200606"
            ]
          },
          "metadata": {},
          "execution_count": 83
        }
      ]
    },
    {
      "cell_type": "markdown",
      "metadata": {
        "id": "IOrMI3Xhj2r0"
      },
      "source": [
        "9)"
      ]
    },
    {
      "cell_type": "code",
      "metadata": {
        "id": "PVJ_mGTJiDJ2"
      },
      "source": [
        "df = pd.read_sql('''select category.name as category, avg(film.length)\n",
        "                    from film\n",
        "                    inner join film_category on film_category.film_id = film.film_id\n",
        "                    inner join category on category.category_id = film_category.category_id\n",
        "                    group by category.name''', con=connection)"
      ],
      "execution_count": null,
      "outputs": []
    },
    {
      "cell_type": "code",
      "metadata": {
        "colab": {
          "base_uri": "https://localhost:8080/",
          "height": 551
        },
        "id": "6BgqrRa_iDMQ",
        "outputId": "5699b93b-46f9-4de6-881f-7a5ddd7a20cd"
      },
      "source": [
        "df"
      ],
      "execution_count": null,
      "outputs": [
        {
          "output_type": "execute_result",
          "data": {
            "text/html": [
              "<div>\n",
              "<style scoped>\n",
              "    .dataframe tbody tr th:only-of-type {\n",
              "        vertical-align: middle;\n",
              "    }\n",
              "\n",
              "    .dataframe tbody tr th {\n",
              "        vertical-align: top;\n",
              "    }\n",
              "\n",
              "    .dataframe thead th {\n",
              "        text-align: right;\n",
              "    }\n",
              "</style>\n",
              "<table border=\"1\" class=\"dataframe\">\n",
              "  <thead>\n",
              "    <tr style=\"text-align: right;\">\n",
              "      <th></th>\n",
              "      <th>category</th>\n",
              "      <th>avg</th>\n",
              "    </tr>\n",
              "  </thead>\n",
              "  <tbody>\n",
              "    <tr>\n",
              "      <th>0</th>\n",
              "      <td>Horror</td>\n",
              "      <td>112.482143</td>\n",
              "    </tr>\n",
              "    <tr>\n",
              "      <th>1</th>\n",
              "      <td>Comedy</td>\n",
              "      <td>115.827586</td>\n",
              "    </tr>\n",
              "    <tr>\n",
              "      <th>2</th>\n",
              "      <td>Sci-Fi</td>\n",
              "      <td>108.196721</td>\n",
              "    </tr>\n",
              "    <tr>\n",
              "      <th>3</th>\n",
              "      <td>Drama</td>\n",
              "      <td>120.838710</td>\n",
              "    </tr>\n",
              "    <tr>\n",
              "      <th>4</th>\n",
              "      <td>Foreign</td>\n",
              "      <td>121.698630</td>\n",
              "    </tr>\n",
              "    <tr>\n",
              "      <th>5</th>\n",
              "      <td>Classics</td>\n",
              "      <td>111.666667</td>\n",
              "    </tr>\n",
              "    <tr>\n",
              "      <th>6</th>\n",
              "      <td>Games</td>\n",
              "      <td>127.836066</td>\n",
              "    </tr>\n",
              "    <tr>\n",
              "      <th>7</th>\n",
              "      <td>New</td>\n",
              "      <td>111.126984</td>\n",
              "    </tr>\n",
              "    <tr>\n",
              "      <th>8</th>\n",
              "      <td>Travel</td>\n",
              "      <td>113.315789</td>\n",
              "    </tr>\n",
              "    <tr>\n",
              "      <th>9</th>\n",
              "      <td>Music</td>\n",
              "      <td>113.647059</td>\n",
              "    </tr>\n",
              "    <tr>\n",
              "      <th>10</th>\n",
              "      <td>Action</td>\n",
              "      <td>111.609375</td>\n",
              "    </tr>\n",
              "    <tr>\n",
              "      <th>11</th>\n",
              "      <td>Documentary</td>\n",
              "      <td>108.750000</td>\n",
              "    </tr>\n",
              "    <tr>\n",
              "      <th>12</th>\n",
              "      <td>Sports</td>\n",
              "      <td>128.202703</td>\n",
              "    </tr>\n",
              "    <tr>\n",
              "      <th>13</th>\n",
              "      <td>Animation</td>\n",
              "      <td>111.015152</td>\n",
              "    </tr>\n",
              "    <tr>\n",
              "      <th>14</th>\n",
              "      <td>Family</td>\n",
              "      <td>114.782609</td>\n",
              "    </tr>\n",
              "    <tr>\n",
              "      <th>15</th>\n",
              "      <td>Children</td>\n",
              "      <td>109.800000</td>\n",
              "    </tr>\n",
              "  </tbody>\n",
              "</table>\n",
              "</div>"
            ],
            "text/plain": [
              "       category         avg\n",
              "0        Horror  112.482143\n",
              "1        Comedy  115.827586\n",
              "2        Sci-Fi  108.196721\n",
              "3         Drama  120.838710\n",
              "4       Foreign  121.698630\n",
              "5      Classics  111.666667\n",
              "6         Games  127.836066\n",
              "7           New  111.126984\n",
              "8        Travel  113.315789\n",
              "9         Music  113.647059\n",
              "10       Action  111.609375\n",
              "11  Documentary  108.750000\n",
              "12       Sports  128.202703\n",
              "13    Animation  111.015152\n",
              "14       Family  114.782609\n",
              "15     Children  109.800000"
            ]
          },
          "metadata": {},
          "execution_count": 93
        }
      ]
    },
    {
      "cell_type": "markdown",
      "metadata": {
        "id": "rG18UPMuj5sx"
      },
      "source": [
        "10)"
      ]
    },
    {
      "cell_type": "code",
      "metadata": {
        "id": "H8_nGoYlj7C0"
      },
      "source": [
        "df = pd.read_sql('''select category.name as category, max(film.length)\n",
        "                    from film\n",
        "                    inner join film_category on film_category.film_id = film.film_id\n",
        "                    inner join category on category.category_id = film_category.category_id\n",
        "                    group by category.name''', con=connection)"
      ],
      "execution_count": null,
      "outputs": []
    },
    {
      "cell_type": "code",
      "metadata": {
        "colab": {
          "base_uri": "https://localhost:8080/",
          "height": 551
        },
        "id": "LvO-aOQ3j7Ft",
        "outputId": "9142b59d-2458-4cd7-a5cb-d777227872e3"
      },
      "source": [
        "df"
      ],
      "execution_count": null,
      "outputs": [
        {
          "output_type": "execute_result",
          "data": {
            "text/html": [
              "<div>\n",
              "<style scoped>\n",
              "    .dataframe tbody tr th:only-of-type {\n",
              "        vertical-align: middle;\n",
              "    }\n",
              "\n",
              "    .dataframe tbody tr th {\n",
              "        vertical-align: top;\n",
              "    }\n",
              "\n",
              "    .dataframe thead th {\n",
              "        text-align: right;\n",
              "    }\n",
              "</style>\n",
              "<table border=\"1\" class=\"dataframe\">\n",
              "  <thead>\n",
              "    <tr style=\"text-align: right;\">\n",
              "      <th></th>\n",
              "      <th>category</th>\n",
              "      <th>max</th>\n",
              "    </tr>\n",
              "  </thead>\n",
              "  <tbody>\n",
              "    <tr>\n",
              "      <th>0</th>\n",
              "      <td>Horror</td>\n",
              "      <td>181</td>\n",
              "    </tr>\n",
              "    <tr>\n",
              "      <th>1</th>\n",
              "      <td>Comedy</td>\n",
              "      <td>185</td>\n",
              "    </tr>\n",
              "    <tr>\n",
              "      <th>2</th>\n",
              "      <td>Sci-Fi</td>\n",
              "      <td>185</td>\n",
              "    </tr>\n",
              "    <tr>\n",
              "      <th>3</th>\n",
              "      <td>Drama</td>\n",
              "      <td>181</td>\n",
              "    </tr>\n",
              "    <tr>\n",
              "      <th>4</th>\n",
              "      <td>Foreign</td>\n",
              "      <td>184</td>\n",
              "    </tr>\n",
              "    <tr>\n",
              "      <th>5</th>\n",
              "      <td>Classics</td>\n",
              "      <td>184</td>\n",
              "    </tr>\n",
              "    <tr>\n",
              "      <th>6</th>\n",
              "      <td>Games</td>\n",
              "      <td>185</td>\n",
              "    </tr>\n",
              "    <tr>\n",
              "      <th>7</th>\n",
              "      <td>New</td>\n",
              "      <td>183</td>\n",
              "    </tr>\n",
              "    <tr>\n",
              "      <th>8</th>\n",
              "      <td>Travel</td>\n",
              "      <td>185</td>\n",
              "    </tr>\n",
              "    <tr>\n",
              "      <th>9</th>\n",
              "      <td>Music</td>\n",
              "      <td>185</td>\n",
              "    </tr>\n",
              "    <tr>\n",
              "      <th>10</th>\n",
              "      <td>Action</td>\n",
              "      <td>185</td>\n",
              "    </tr>\n",
              "    <tr>\n",
              "      <th>11</th>\n",
              "      <td>Documentary</td>\n",
              "      <td>183</td>\n",
              "    </tr>\n",
              "    <tr>\n",
              "      <th>12</th>\n",
              "      <td>Sports</td>\n",
              "      <td>184</td>\n",
              "    </tr>\n",
              "    <tr>\n",
              "      <th>13</th>\n",
              "      <td>Animation</td>\n",
              "      <td>185</td>\n",
              "    </tr>\n",
              "    <tr>\n",
              "      <th>14</th>\n",
              "      <td>Family</td>\n",
              "      <td>184</td>\n",
              "    </tr>\n",
              "    <tr>\n",
              "      <th>15</th>\n",
              "      <td>Children</td>\n",
              "      <td>178</td>\n",
              "    </tr>\n",
              "  </tbody>\n",
              "</table>\n",
              "</div>"
            ],
            "text/plain": [
              "       category  max\n",
              "0        Horror  181\n",
              "1        Comedy  185\n",
              "2        Sci-Fi  185\n",
              "3         Drama  181\n",
              "4       Foreign  184\n",
              "5      Classics  184\n",
              "6         Games  185\n",
              "7           New  183\n",
              "8        Travel  185\n",
              "9         Music  185\n",
              "10       Action  185\n",
              "11  Documentary  183\n",
              "12       Sports  184\n",
              "13    Animation  185\n",
              "14       Family  184\n",
              "15     Children  178"
            ]
          },
          "metadata": {},
          "execution_count": 151
        }
      ]
    },
    {
      "cell_type": "markdown",
      "metadata": {
        "id": "Xp5o861TnrCi"
      },
      "source": [
        "11)"
      ]
    },
    {
      "cell_type": "code",
      "metadata": {
        "id": "hcEpTuLbnr96"
      },
      "source": [
        "df = pd.read_sql('''select max(film.length)\n",
        "                    from film\n",
        "                    inner join film_category on film_category.film_id = film.film_id\n",
        "                    inner join category on category.category_id = film_category.category_id''', con=connection)"
      ],
      "execution_count": null,
      "outputs": []
    },
    {
      "cell_type": "code",
      "metadata": {
        "colab": {
          "base_uri": "https://localhost:8080/",
          "height": 81
        },
        "id": "uiF_5EVXnsAf",
        "outputId": "72d25e26-487b-4f1d-8f4e-38e2c71b3882"
      },
      "source": [
        "df"
      ],
      "execution_count": null,
      "outputs": [
        {
          "output_type": "execute_result",
          "data": {
            "text/html": [
              "<div>\n",
              "<style scoped>\n",
              "    .dataframe tbody tr th:only-of-type {\n",
              "        vertical-align: middle;\n",
              "    }\n",
              "\n",
              "    .dataframe tbody tr th {\n",
              "        vertical-align: top;\n",
              "    }\n",
              "\n",
              "    .dataframe thead th {\n",
              "        text-align: right;\n",
              "    }\n",
              "</style>\n",
              "<table border=\"1\" class=\"dataframe\">\n",
              "  <thead>\n",
              "    <tr style=\"text-align: right;\">\n",
              "      <th></th>\n",
              "      <th>max</th>\n",
              "    </tr>\n",
              "  </thead>\n",
              "  <tbody>\n",
              "    <tr>\n",
              "      <th>0</th>\n",
              "      <td>185</td>\n",
              "    </tr>\n",
              "  </tbody>\n",
              "</table>\n",
              "</div>"
            ],
            "text/plain": [
              "   max\n",
              "0  185"
            ]
          },
          "metadata": {},
          "execution_count": 129
        }
      ]
    },
    {
      "cell_type": "markdown",
      "metadata": {
        "id": "w7dhjvrWTRHQ"
      },
      "source": [
        "## Zadanie implementacyjne\n",
        "Zaimplementuj wszystkie funkcje w pliku main.py zgodnie z opisem a następnie przetestuj je w notatniku."
      ]
    },
    {
      "cell_type": "code",
      "metadata": {
        "colab": {
          "base_uri": "https://localhost:8080/",
          "height": 424
        },
        "id": "wpGfQb_3Tfvm",
        "outputId": "7f6f5522-1c50-44f2-cb3d-4ae69a0a62b2"
      },
      "source": [
        "main.film_in_category(1)"
      ],
      "execution_count": null,
      "outputs": [
        {
          "output_type": "execute_result",
          "data": {
            "text/html": [
              "<div>\n",
              "<style scoped>\n",
              "    .dataframe tbody tr th:only-of-type {\n",
              "        vertical-align: middle;\n",
              "    }\n",
              "\n",
              "    .dataframe tbody tr th {\n",
              "        vertical-align: top;\n",
              "    }\n",
              "\n",
              "    .dataframe thead th {\n",
              "        text-align: right;\n",
              "    }\n",
              "</style>\n",
              "<table border=\"1\" class=\"dataframe\">\n",
              "  <thead>\n",
              "    <tr style=\"text-align: right;\">\n",
              "      <th></th>\n",
              "      <th>title</th>\n",
              "      <th>languge</th>\n",
              "      <th>category</th>\n",
              "    </tr>\n",
              "  </thead>\n",
              "  <tbody>\n",
              "    <tr>\n",
              "      <th>0</th>\n",
              "      <td>Amadeus Holy</td>\n",
              "      <td>English</td>\n",
              "      <td>Action</td>\n",
              "    </tr>\n",
              "    <tr>\n",
              "      <th>1</th>\n",
              "      <td>American Circus</td>\n",
              "      <td>English</td>\n",
              "      <td>Action</td>\n",
              "    </tr>\n",
              "    <tr>\n",
              "      <th>2</th>\n",
              "      <td>Antitrust Tomatoes</td>\n",
              "      <td>English</td>\n",
              "      <td>Action</td>\n",
              "    </tr>\n",
              "    <tr>\n",
              "      <th>3</th>\n",
              "      <td>Ark Ridgemont</td>\n",
              "      <td>English</td>\n",
              "      <td>Action</td>\n",
              "    </tr>\n",
              "    <tr>\n",
              "      <th>4</th>\n",
              "      <td>Barefoot Manchurian</td>\n",
              "      <td>English</td>\n",
              "      <td>Action</td>\n",
              "    </tr>\n",
              "    <tr>\n",
              "      <th>...</th>\n",
              "      <td>...</td>\n",
              "      <td>...</td>\n",
              "      <td>...</td>\n",
              "    </tr>\n",
              "    <tr>\n",
              "      <th>59</th>\n",
              "      <td>Uprising Uptown</td>\n",
              "      <td>English</td>\n",
              "      <td>Action</td>\n",
              "    </tr>\n",
              "    <tr>\n",
              "      <th>60</th>\n",
              "      <td>Waterfront Deliverance</td>\n",
              "      <td>English</td>\n",
              "      <td>Action</td>\n",
              "    </tr>\n",
              "    <tr>\n",
              "      <th>61</th>\n",
              "      <td>Werewolf Lola</td>\n",
              "      <td>English</td>\n",
              "      <td>Action</td>\n",
              "    </tr>\n",
              "    <tr>\n",
              "      <th>62</th>\n",
              "      <td>Women Dorado</td>\n",
              "      <td>English</td>\n",
              "      <td>Action</td>\n",
              "    </tr>\n",
              "    <tr>\n",
              "      <th>63</th>\n",
              "      <td>Worst Banger</td>\n",
              "      <td>English</td>\n",
              "      <td>Action</td>\n",
              "    </tr>\n",
              "  </tbody>\n",
              "</table>\n",
              "<p>64 rows × 3 columns</p>\n",
              "</div>"
            ],
            "text/plain": [
              "                     title               languge category\n",
              "0             Amadeus Holy  English                Action\n",
              "1          American Circus  English                Action\n",
              "2       Antitrust Tomatoes  English                Action\n",
              "3            Ark Ridgemont  English                Action\n",
              "4      Barefoot Manchurian  English                Action\n",
              "..                     ...                   ...      ...\n",
              "59         Uprising Uptown  English                Action\n",
              "60  Waterfront Deliverance  English                Action\n",
              "61           Werewolf Lola  English                Action\n",
              "62            Women Dorado  English                Action\n",
              "63            Worst Banger  English                Action\n",
              "\n",
              "[64 rows x 3 columns]"
            ]
          },
          "metadata": {},
          "execution_count": 3
        }
      ]
    },
    {
      "cell_type": "code",
      "metadata": {
        "colab": {
          "base_uri": "https://localhost:8080/",
          "height": 81
        },
        "id": "-OAaIKZ0Tf3q",
        "outputId": "763c6c73-cc16-4cbe-a01e-773efae80896"
      },
      "source": [
        "main.number_films_in_category(1)"
      ],
      "execution_count": null,
      "outputs": [
        {
          "output_type": "execute_result",
          "data": {
            "text/html": [
              "<div>\n",
              "<style scoped>\n",
              "    .dataframe tbody tr th:only-of-type {\n",
              "        vertical-align: middle;\n",
              "    }\n",
              "\n",
              "    .dataframe tbody tr th {\n",
              "        vertical-align: top;\n",
              "    }\n",
              "\n",
              "    .dataframe thead th {\n",
              "        text-align: right;\n",
              "    }\n",
              "</style>\n",
              "<table border=\"1\" class=\"dataframe\">\n",
              "  <thead>\n",
              "    <tr style=\"text-align: right;\">\n",
              "      <th></th>\n",
              "      <th>category</th>\n",
              "      <th>count</th>\n",
              "    </tr>\n",
              "  </thead>\n",
              "  <tbody>\n",
              "    <tr>\n",
              "      <th>0</th>\n",
              "      <td>Action</td>\n",
              "      <td>64</td>\n",
              "    </tr>\n",
              "  </tbody>\n",
              "</table>\n",
              "</div>"
            ],
            "text/plain": [
              "  category  count\n",
              "0   Action     64"
            ]
          },
          "metadata": {},
          "execution_count": 4
        }
      ]
    },
    {
      "cell_type": "code",
      "metadata": {
        "colab": {
          "base_uri": "https://localhost:8080/",
          "height": 206
        },
        "id": "reVgh2klTf-L",
        "outputId": "9994fe97-f2a6-4ab6-88d9-28d49605be8c"
      },
      "source": [
        "main.number_film_by_length(20,50)"
      ],
      "execution_count": null,
      "outputs": [
        {
          "output_type": "execute_result",
          "data": {
            "text/html": [
              "<div>\n",
              "<style scoped>\n",
              "    .dataframe tbody tr th:only-of-type {\n",
              "        vertical-align: middle;\n",
              "    }\n",
              "\n",
              "    .dataframe tbody tr th {\n",
              "        vertical-align: top;\n",
              "    }\n",
              "\n",
              "    .dataframe thead th {\n",
              "        text-align: right;\n",
              "    }\n",
              "</style>\n",
              "<table border=\"1\" class=\"dataframe\">\n",
              "  <thead>\n",
              "    <tr style=\"text-align: right;\">\n",
              "      <th></th>\n",
              "      <th>length</th>\n",
              "      <th>count</th>\n",
              "    </tr>\n",
              "  </thead>\n",
              "  <tbody>\n",
              "    <tr>\n",
              "      <th>0</th>\n",
              "      <td>46</td>\n",
              "      <td>5</td>\n",
              "    </tr>\n",
              "    <tr>\n",
              "      <th>1</th>\n",
              "      <td>47</td>\n",
              "      <td>7</td>\n",
              "    </tr>\n",
              "    <tr>\n",
              "      <th>2</th>\n",
              "      <td>48</td>\n",
              "      <td>11</td>\n",
              "    </tr>\n",
              "    <tr>\n",
              "      <th>3</th>\n",
              "      <td>49</td>\n",
              "      <td>5</td>\n",
              "    </tr>\n",
              "    <tr>\n",
              "      <th>4</th>\n",
              "      <td>50</td>\n",
              "      <td>9</td>\n",
              "    </tr>\n",
              "  </tbody>\n",
              "</table>\n",
              "</div>"
            ],
            "text/plain": [
              "   length  count\n",
              "0      46      5\n",
              "1      47      7\n",
              "2      48     11\n",
              "3      49      5\n",
              "4      50      9"
            ]
          },
          "metadata": {},
          "execution_count": 5
        }
      ]
    },
    {
      "cell_type": "code",
      "metadata": {
        "colab": {
          "base_uri": "https://localhost:8080/",
          "height": 81
        },
        "id": "j24ECWl4TgGi",
        "outputId": "5d975d06-85f1-4cf9-954f-460ba7207dab"
      },
      "source": [
        "main.client_from_city('Athenai')"
      ],
      "execution_count": null,
      "outputs": [
        {
          "output_type": "execute_result",
          "data": {
            "text/html": [
              "<div>\n",
              "<style scoped>\n",
              "    .dataframe tbody tr th:only-of-type {\n",
              "        vertical-align: middle;\n",
              "    }\n",
              "\n",
              "    .dataframe tbody tr th {\n",
              "        vertical-align: top;\n",
              "    }\n",
              "\n",
              "    .dataframe thead th {\n",
              "        text-align: right;\n",
              "    }\n",
              "</style>\n",
              "<table border=\"1\" class=\"dataframe\">\n",
              "  <thead>\n",
              "    <tr style=\"text-align: right;\">\n",
              "      <th></th>\n",
              "      <th>city</th>\n",
              "      <th>first_name</th>\n",
              "      <th>last_name</th>\n",
              "    </tr>\n",
              "  </thead>\n",
              "  <tbody>\n",
              "    <tr>\n",
              "      <th>0</th>\n",
              "      <td>Athenai</td>\n",
              "      <td>Linda</td>\n",
              "      <td>Williams</td>\n",
              "    </tr>\n",
              "  </tbody>\n",
              "</table>\n",
              "</div>"
            ],
            "text/plain": [
              "      city first_name last_name\n",
              "0  Athenai      Linda  Williams"
            ]
          },
          "metadata": {},
          "execution_count": 12
        }
      ]
    },
    {
      "cell_type": "code",
      "metadata": {
        "colab": {
          "base_uri": "https://localhost:8080/",
          "height": 81
        },
        "id": "jcGgvKyITRHe",
        "outputId": "b22b9f1b-21f7-4e85-b754-9ecfde89b844"
      },
      "source": [
        "main.avg_amount_by_length(60)"
      ],
      "execution_count": null,
      "outputs": [
        {
          "output_type": "execute_result",
          "data": {
            "text/html": [
              "<div>\n",
              "<style scoped>\n",
              "    .dataframe tbody tr th:only-of-type {\n",
              "        vertical-align: middle;\n",
              "    }\n",
              "\n",
              "    .dataframe tbody tr th {\n",
              "        vertical-align: top;\n",
              "    }\n",
              "\n",
              "    .dataframe thead th {\n",
              "        text-align: right;\n",
              "    }\n",
              "</style>\n",
              "<table border=\"1\" class=\"dataframe\">\n",
              "  <thead>\n",
              "    <tr style=\"text-align: right;\">\n",
              "      <th></th>\n",
              "      <th>length</th>\n",
              "      <th>avg</th>\n",
              "    </tr>\n",
              "  </thead>\n",
              "  <tbody>\n",
              "    <tr>\n",
              "      <th>0</th>\n",
              "      <td>60</td>\n",
              "      <td>4.089099</td>\n",
              "    </tr>\n",
              "  </tbody>\n",
              "</table>\n",
              "</div>"
            ],
            "text/plain": [
              "   length       avg\n",
              "0      60  4.089099"
            ]
          },
          "metadata": {},
          "execution_count": 8
        }
      ]
    },
    {
      "cell_type": "code",
      "metadata": {
        "colab": {
          "base_uri": "https://localhost:8080/",
          "height": 424
        },
        "id": "VkHeBij2X-cC",
        "outputId": "3ec305ed-7f99-4005-a6cc-1bab340824cc"
      },
      "source": [
        "main.client_by_sum_length(50)"
      ],
      "execution_count": null,
      "outputs": [
        {
          "output_type": "execute_result",
          "data": {
            "text/html": [
              "<div>\n",
              "<style scoped>\n",
              "    .dataframe tbody tr th:only-of-type {\n",
              "        vertical-align: middle;\n",
              "    }\n",
              "\n",
              "    .dataframe tbody tr th {\n",
              "        vertical-align: top;\n",
              "    }\n",
              "\n",
              "    .dataframe thead th {\n",
              "        text-align: right;\n",
              "    }\n",
              "</style>\n",
              "<table border=\"1\" class=\"dataframe\">\n",
              "  <thead>\n",
              "    <tr style=\"text-align: right;\">\n",
              "      <th></th>\n",
              "      <th>first_name</th>\n",
              "      <th>last_name</th>\n",
              "      <th>sum</th>\n",
              "    </tr>\n",
              "  </thead>\n",
              "  <tbody>\n",
              "    <tr>\n",
              "      <th>0</th>\n",
              "      <td>Brian</td>\n",
              "      <td>Wyman</td>\n",
              "      <td>1265</td>\n",
              "    </tr>\n",
              "    <tr>\n",
              "      <th>1</th>\n",
              "      <td>Antonio</td>\n",
              "      <td>Meek</td>\n",
              "      <td>1451</td>\n",
              "    </tr>\n",
              "    <tr>\n",
              "      <th>2</th>\n",
              "      <td>Leona</td>\n",
              "      <td>Obrien</td>\n",
              "      <td>1588</td>\n",
              "    </tr>\n",
              "    <tr>\n",
              "      <th>3</th>\n",
              "      <td>Katherine</td>\n",
              "      <td>Rivera</td>\n",
              "      <td>1615</td>\n",
              "    </tr>\n",
              "    <tr>\n",
              "      <th>4</th>\n",
              "      <td>Tiffany</td>\n",
              "      <td>Jordan</td>\n",
              "      <td>1667</td>\n",
              "    </tr>\n",
              "    <tr>\n",
              "      <th>...</th>\n",
              "      <td>...</td>\n",
              "      <td>...</td>\n",
              "      <td>...</td>\n",
              "    </tr>\n",
              "    <tr>\n",
              "      <th>594</th>\n",
              "      <td>Wesley</td>\n",
              "      <td>Bull</td>\n",
              "      <td>4808</td>\n",
              "    </tr>\n",
              "    <tr>\n",
              "      <th>595</th>\n",
              "      <td>Clara</td>\n",
              "      <td>Shaw</td>\n",
              "      <td>4808</td>\n",
              "    </tr>\n",
              "    <tr>\n",
              "      <th>596</th>\n",
              "      <td>Tammy</td>\n",
              "      <td>Sanders</td>\n",
              "      <td>5065</td>\n",
              "    </tr>\n",
              "    <tr>\n",
              "      <th>597</th>\n",
              "      <td>Eleanor</td>\n",
              "      <td>Hunt</td>\n",
              "      <td>5360</td>\n",
              "    </tr>\n",
              "    <tr>\n",
              "      <th>598</th>\n",
              "      <td>Karl</td>\n",
              "      <td>Seal</td>\n",
              "      <td>5388</td>\n",
              "    </tr>\n",
              "  </tbody>\n",
              "</table>\n",
              "<p>599 rows × 3 columns</p>\n",
              "</div>"
            ],
            "text/plain": [
              "    first_name last_name   sum\n",
              "0        Brian     Wyman  1265\n",
              "1      Antonio      Meek  1451\n",
              "2        Leona    Obrien  1588\n",
              "3    Katherine    Rivera  1615\n",
              "4      Tiffany    Jordan  1667\n",
              "..         ...       ...   ...\n",
              "594     Wesley      Bull  4808\n",
              "595      Clara      Shaw  4808\n",
              "596      Tammy   Sanders  5065\n",
              "597    Eleanor      Hunt  5360\n",
              "598       Karl      Seal  5388\n",
              "\n",
              "[599 rows x 3 columns]"
            ]
          },
          "metadata": {},
          "execution_count": 9
        }
      ]
    },
    {
      "cell_type": "code",
      "metadata": {
        "colab": {
          "base_uri": "https://localhost:8080/",
          "height": 81
        },
        "id": "ZbyDuxEfX-h2",
        "outputId": "5039a768-4a72-43b0-dcef-4c75cd5f3c6a"
      },
      "source": [
        "main.category_statistic_length('Action')"
      ],
      "execution_count": null,
      "outputs": [
        {
          "output_type": "execute_result",
          "data": {
            "text/html": [
              "<div>\n",
              "<style scoped>\n",
              "    .dataframe tbody tr th:only-of-type {\n",
              "        vertical-align: middle;\n",
              "    }\n",
              "\n",
              "    .dataframe tbody tr th {\n",
              "        vertical-align: top;\n",
              "    }\n",
              "\n",
              "    .dataframe thead th {\n",
              "        text-align: right;\n",
              "    }\n",
              "</style>\n",
              "<table border=\"1\" class=\"dataframe\">\n",
              "  <thead>\n",
              "    <tr style=\"text-align: right;\">\n",
              "      <th></th>\n",
              "      <th>category</th>\n",
              "      <th>avg</th>\n",
              "      <th>sum</th>\n",
              "      <th>min</th>\n",
              "      <th>max</th>\n",
              "    </tr>\n",
              "  </thead>\n",
              "  <tbody>\n",
              "    <tr>\n",
              "      <th>0</th>\n",
              "      <td>Action</td>\n",
              "      <td>111.609375</td>\n",
              "      <td>7143</td>\n",
              "      <td>47</td>\n",
              "      <td>185</td>\n",
              "    </tr>\n",
              "  </tbody>\n",
              "</table>\n",
              "</div>"
            ],
            "text/plain": [
              "  category         avg   sum  min  max\n",
              "0   Action  111.609375  7143   47  185"
            ]
          },
          "metadata": {},
          "execution_count": 11
        }
      ]
    }
  ]
}