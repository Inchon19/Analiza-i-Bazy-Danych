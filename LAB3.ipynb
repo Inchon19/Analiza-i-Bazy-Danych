{
  "nbformat": 4,
  "nbformat_minor": 0,
  "metadata": {
    "colab": {
      "name": "LAB3.ipynb",
      "provenance": [],
      "collapsed_sections": []
    },
    "kernelspec": {
      "name": "python3",
      "display_name": "Python 3"
    },
    "language_info": {
      "name": "python"
    }
  },
  "cells": [
    {
      "cell_type": "code",
      "metadata": {
        "colab": {
          "base_uri": "https://localhost:8080/"
        },
        "id": "TiFgKKHqOaPy",
        "outputId": "3ef7ca9f-d4bf-424d-d2ab-eb6402772f88"
      },
      "source": [
        "pip install sqlalchemy psycopg2 pandas"
      ],
      "execution_count": 1,
      "outputs": [
        {
          "output_type": "stream",
          "name": "stdout",
          "text": [
            "Requirement already satisfied: sqlalchemy in /usr/local/lib/python3.7/dist-packages (1.4.25)\n",
            "Requirement already satisfied: psycopg2 in /usr/local/lib/python3.7/dist-packages (2.7.6.1)\n",
            "Requirement already satisfied: pandas in /usr/local/lib/python3.7/dist-packages (1.1.5)\n",
            "Requirement already satisfied: greenlet!=0.4.17 in /usr/local/lib/python3.7/dist-packages (from sqlalchemy) (1.1.2)\n",
            "Requirement already satisfied: importlib-metadata in /usr/local/lib/python3.7/dist-packages (from sqlalchemy) (4.8.1)\n",
            "Requirement already satisfied: numpy>=1.15.4 in /usr/local/lib/python3.7/dist-packages (from pandas) (1.19.5)\n",
            "Requirement already satisfied: pytz>=2017.2 in /usr/local/lib/python3.7/dist-packages (from pandas) (2018.9)\n",
            "Requirement already satisfied: python-dateutil>=2.7.3 in /usr/local/lib/python3.7/dist-packages (from pandas) (2.8.2)\n",
            "Requirement already satisfied: six>=1.5 in /usr/local/lib/python3.7/dist-packages (from python-dateutil>=2.7.3->pandas) (1.15.0)\n",
            "Requirement already satisfied: typing-extensions>=3.6.4 in /usr/local/lib/python3.7/dist-packages (from importlib-metadata->sqlalchemy) (3.7.4.3)\n",
            "Requirement already satisfied: zipp>=0.5 in /usr/local/lib/python3.7/dist-packages (from importlib-metadata->sqlalchemy) (3.6.0)\n"
          ]
        }
      ]
    },
    {
      "cell_type": "code",
      "metadata": {
        "id": "_KdY9iUlQL2h",
        "colab": {
          "base_uri": "https://localhost:8080/"
        },
        "outputId": "f1c81738-5cf6-4981-c915-46f2f5ecf8c4"
      },
      "source": [
        "import psycopg2 as pg\n",
        "import pandas as pd\n",
        "\n",
        "connection = pg.connect(host='pgsql-196447.vipserv.org', port=5432, dbname='wbauer_adb', user='wbauer_adb', password='adb2020')"
      ],
      "execution_count": 1,
      "outputs": [
        {
          "output_type": "stream",
          "name": "stderr",
          "text": [
            "/usr/local/lib/python3.7/dist-packages/psycopg2/__init__.py:144: UserWarning: The psycopg2 wheel package will be renamed from release 2.8; in order to keep installing from binary please use \"pip install psycopg2-binary\" instead. For details see: <http://initd.org/psycopg/docs/install.html#binary-install-from-pypi>.\n",
            "  \"\"\")\n"
          ]
        }
      ]
    },
    {
      "cell_type": "code",
      "metadata": {
        "colab": {
          "base_uri": "https://localhost:8080/"
        },
        "id": "6hq9TuvXXJTU",
        "outputId": "5928081e-815a-46cb-baef-4b528a0fb19a"
      },
      "source": [
        "df = pd.read_sql('select * from category',con=connection)\n",
        "print(df)"
      ],
      "execution_count": 2,
      "outputs": [
        {
          "output_type": "stream",
          "name": "stdout",
          "text": [
            "    category_id         name         last_update\n",
            "0             1       Action 2006-02-15 09:46:27\n",
            "1             2    Animation 2006-02-15 09:46:27\n",
            "2             3     Children 2006-02-15 09:46:27\n",
            "3             4     Classics 2006-02-15 09:46:27\n",
            "4             5       Comedy 2006-02-15 09:46:27\n",
            "5             6  Documentary 2006-02-15 09:46:27\n",
            "6             7        Drama 2006-02-15 09:46:27\n",
            "7             8       Family 2006-02-15 09:46:27\n",
            "8             9      Foreign 2006-02-15 09:46:27\n",
            "9            10        Games 2006-02-15 09:46:27\n",
            "10           11       Horror 2006-02-15 09:46:27\n",
            "11           12        Music 2006-02-15 09:46:27\n",
            "12           13          New 2006-02-15 09:46:27\n",
            "13           14       Sci-Fi 2006-02-15 09:46:27\n",
            "14           15       Sports 2006-02-15 09:46:27\n",
            "15           16       Travel 2006-02-15 09:46:27\n"
          ]
        }
      ]
    },
    {
      "cell_type": "markdown",
      "metadata": {
        "id": "0mTfLkQgVRtM"
      },
      "source": [
        "1)Ile kategorii filmów mamy w wypożyczalni?"
      ]
    },
    {
      "cell_type": "code",
      "metadata": {
        "colab": {
          "base_uri": "https://localhost:8080/"
        },
        "id": "2otdNA5-Q-In",
        "outputId": "0d14e4a5-6b2e-4c74-f1c5-5fd6ace2b9f2"
      },
      "source": [
        "df = pd.read_sql('select * from category',con=connection)\n",
        "nr_of_category = max(df.category_id)\n",
        "print(\"Ilość kategorii filmów w wypożyczalni: {}\".format(nr_of_category))"
      ],
      "execution_count": 3,
      "outputs": [
        {
          "output_type": "stream",
          "name": "stdout",
          "text": [
            "Ilość kategorii filmów w wypożyczalni: 16\n"
          ]
        }
      ]
    },
    {
      "cell_type": "markdown",
      "metadata": {
        "id": "K35xaiiXVk4M"
      },
      "source": [
        "2)Wyświetl listę kategorii w kolejności alfabetycznej.\n"
      ]
    },
    {
      "cell_type": "code",
      "metadata": {
        "colab": {
          "base_uri": "https://localhost:8080/"
        },
        "id": "mXfONLzFVjOR",
        "outputId": "1d4a1ad3-1dc9-424c-bf50-5d505fb2129d"
      },
      "source": [
        "df = pd.read_sql('select name from category order by name  ',con=connection)\n",
        "print(df)"
      ],
      "execution_count": 4,
      "outputs": [
        {
          "output_type": "stream",
          "name": "stdout",
          "text": [
            "           name\n",
            "0        Action\n",
            "1     Animation\n",
            "2      Children\n",
            "3      Classics\n",
            "4        Comedy\n",
            "5   Documentary\n",
            "6         Drama\n",
            "7        Family\n",
            "8       Foreign\n",
            "9         Games\n",
            "10       Horror\n",
            "11        Music\n",
            "12          New\n",
            "13       Sci-Fi\n",
            "14       Sports\n",
            "15       Travel\n"
          ]
        }
      ]
    },
    {
      "cell_type": "markdown",
      "metadata": {
        "id": "vSJdNaXqXt5Y"
      },
      "source": [
        "3)Znajdź najstarszy i najmłodszy film do wypożyczenia."
      ]
    },
    {
      "cell_type": "code",
      "metadata": {
        "colab": {
          "base_uri": "https://localhost:8080/"
        },
        "id": "phsivopUpD_E",
        "outputId": "19d97402-bc8f-47ef-8f84-c66045fb0f22"
      },
      "source": [
        "df = pd.read_sql('select title,release_year from film order by release_year DESC',con=connection)\n",
        "print(df)\n",
        "print('Wszystkie filmy są równie stare')"
      ],
      "execution_count": 5,
      "outputs": [
        {
          "output_type": "stream",
          "name": "stdout",
          "text": [
            "                 title  release_year\n",
            "0      Chamber Italian          2006\n",
            "1     Grosse Wonderful          2006\n",
            "2      Airport Pollock          2006\n",
            "3    Bright Encounters          2006\n",
            "4     Academy Dinosaur          2006\n",
            "..                 ...           ...\n",
            "995     Young Language          2006\n",
            "996         Youth Kick          2006\n",
            "997       Zhivago Core          2006\n",
            "998  Zoolander Fiction          2006\n",
            "999          Zorro Ark          2006\n",
            "\n",
            "[1000 rows x 2 columns]\n",
            "Wszystkie filmy są równie stare\n"
          ]
        }
      ]
    },
    {
      "cell_type": "markdown",
      "metadata": {
        "id": "_2MDKeE6cyMV"
      },
      "source": [
        "4)Ile wypożyczeń odbyło się między 2005-07-01 a 2005-08-01?"
      ]
    },
    {
      "cell_type": "code",
      "metadata": {
        "colab": {
          "base_uri": "https://localhost:8080/"
        },
        "id": "PQtGrWsiam9t",
        "outputId": "da029387-e288-4e0c-b7f8-995a545ad704"
      },
      "source": [
        "df = pd.read_sql('select * from rental ',con=connection)\n",
        "print(df)"
      ],
      "execution_count": 6,
      "outputs": [
        {
          "output_type": "stream",
          "name": "stdout",
          "text": [
            "       rental_id         rental_date  ...  staff_id         last_update\n",
            "0              2 2005-05-24 22:54:33  ...         1 2006-02-16 02:30:53\n",
            "1              3 2005-05-24 23:03:39  ...         1 2006-02-16 02:30:53\n",
            "2              4 2005-05-24 23:04:41  ...         2 2006-02-16 02:30:53\n",
            "3              5 2005-05-24 23:05:21  ...         1 2006-02-16 02:30:53\n",
            "4              6 2005-05-24 23:08:07  ...         1 2006-02-16 02:30:53\n",
            "...          ...                 ...  ...       ...                 ...\n",
            "16039      16046 2005-08-23 22:26:47  ...         2 2006-02-16 02:30:53\n",
            "16040      16047 2005-08-23 22:42:48  ...         2 2006-02-16 02:30:53\n",
            "16041      16048 2005-08-23 22:43:07  ...         1 2006-02-16 02:30:53\n",
            "16042      16049 2005-08-23 22:50:12  ...         2 2006-02-16 02:30:53\n",
            "16043          1 2005-05-24 22:53:30  ...         1 2006-02-15 21:30:53\n",
            "\n",
            "[16044 rows x 7 columns]\n"
          ]
        }
      ]
    },
    {
      "cell_type": "code",
      "metadata": {
        "colab": {
          "base_uri": "https://localhost:8080/"
        },
        "id": "KsNlzUgRZ2_8",
        "outputId": "4dea460a-59cb-42c4-c635-4d26c3719cb3"
      },
      "source": [
        "df = pd.read_sql('select * from rental where rental_date between \\'2005-07-01\\'  and \\'2005-08-01\\' ',con=connection)\n",
        "print(df)\n",
        "print(\"Między 2005-07-01 a 2005-08-01 odbyło się {} wypożyczeń\".format(max(df.index)+1))"
      ],
      "execution_count": 7,
      "outputs": [
        {
          "output_type": "stream",
          "name": "stdout",
          "text": [
            "      rental_id         rental_date  ...  staff_id         last_update\n",
            "0          3470 2005-07-05 22:49:24  ...         1 2006-02-16 02:30:53\n",
            "1          3471 2005-07-05 22:51:44  ...         2 2006-02-16 02:30:53\n",
            "2          3472 2005-07-05 22:56:33  ...         2 2006-02-16 02:30:53\n",
            "3          3473 2005-07-05 22:57:34  ...         1 2006-02-16 02:30:53\n",
            "4          3474 2005-07-05 22:59:53  ...         1 2006-02-16 02:30:53\n",
            "...         ...                 ...  ...       ...                 ...\n",
            "6704      10176 2005-07-31 23:40:35  ...         2 2006-02-16 02:30:53\n",
            "6705      10177 2005-07-31 23:42:33  ...         2 2006-02-16 02:30:53\n",
            "6706      10178 2005-07-31 23:43:04  ...         1 2006-02-16 02:30:53\n",
            "6707      10179 2005-07-31 23:49:54  ...         2 2006-02-16 02:30:53\n",
            "6708      10180 2005-07-31 23:57:43  ...         2 2006-02-16 02:30:53\n",
            "\n",
            "[6709 rows x 7 columns]\n",
            "Między 2005-07-01 a 2005-08-01 odbyło się 6709 wypożyczeń\n"
          ]
        }
      ]
    },
    {
      "cell_type": "markdown",
      "metadata": {
        "id": "hKJh5sPZbexb"
      },
      "source": [
        "5)Ile wypożyczeń odbyło się między 2010-01-01 a 2011-02-01?"
      ]
    },
    {
      "cell_type": "code",
      "metadata": {
        "colab": {
          "base_uri": "https://localhost:8080/",
          "height": 637
        },
        "id": "CJy46y7WaBKq",
        "outputId": "55aff366-b7b0-4bd0-e709-4119c5312d2f"
      },
      "source": [
        "df = pd.read_sql('select * from rental where rental_date between between \\'2010-01-01\\'  and \\'2011-02-01\\' ',con=connection)\n",
        "print(df)\n",
        "print(\"Między między 2010-01-01 a 2011-02-01 odbyło się {} wypożyczeń\".format(max(df.index)+1))"
      ],
      "execution_count": 8,
      "outputs": [
        {
          "output_type": "error",
          "ename": "DatabaseError",
          "evalue": "ignored",
          "traceback": [
            "\u001b[0;31m---------------------------------------------------------------------------\u001b[0m",
            "\u001b[0;31mProgrammingError\u001b[0m                          Traceback (most recent call last)",
            "\u001b[0;32m/usr/local/lib/python3.7/dist-packages/pandas/io/sql.py\u001b[0m in \u001b[0;36mexecute\u001b[0;34m(self, *args, **kwargs)\u001b[0m\n\u001b[1;32m   1680\u001b[0m         \u001b[0;32mtry\u001b[0m\u001b[0;34m:\u001b[0m\u001b[0;34m\u001b[0m\u001b[0;34m\u001b[0m\u001b[0m\n\u001b[0;32m-> 1681\u001b[0;31m             \u001b[0mcur\u001b[0m\u001b[0;34m.\u001b[0m\u001b[0mexecute\u001b[0m\u001b[0;34m(\u001b[0m\u001b[0;34m*\u001b[0m\u001b[0margs\u001b[0m\u001b[0;34m,\u001b[0m \u001b[0;34m**\u001b[0m\u001b[0mkwargs\u001b[0m\u001b[0;34m)\u001b[0m\u001b[0;34m\u001b[0m\u001b[0;34m\u001b[0m\u001b[0m\n\u001b[0m\u001b[1;32m   1682\u001b[0m             \u001b[0;32mreturn\u001b[0m \u001b[0mcur\u001b[0m\u001b[0;34m\u001b[0m\u001b[0;34m\u001b[0m\u001b[0m\n",
            "\u001b[0;31mProgrammingError\u001b[0m: syntax error at or near \"'2010-01-01'\"\nLINE 1: ...t * from rental where rental_date between between '2010-01-0...\n                                                             ^\n",
            "\nThe above exception was the direct cause of the following exception:\n",
            "\u001b[0;31mDatabaseError\u001b[0m                             Traceback (most recent call last)",
            "\u001b[0;32m<ipython-input-8-889abd734154>\u001b[0m in \u001b[0;36m<module>\u001b[0;34m()\u001b[0m\n\u001b[0;32m----> 1\u001b[0;31m \u001b[0mdf\u001b[0m \u001b[0;34m=\u001b[0m \u001b[0mpd\u001b[0m\u001b[0;34m.\u001b[0m\u001b[0mread_sql\u001b[0m\u001b[0;34m(\u001b[0m\u001b[0;34m'select * from rental where rental_date between between \\'2010-01-01\\'  and \\'2011-02-01\\' '\u001b[0m\u001b[0;34m,\u001b[0m\u001b[0mcon\u001b[0m\u001b[0;34m=\u001b[0m\u001b[0mconnection\u001b[0m\u001b[0;34m)\u001b[0m\u001b[0;34m\u001b[0m\u001b[0;34m\u001b[0m\u001b[0m\n\u001b[0m\u001b[1;32m      2\u001b[0m \u001b[0mprint\u001b[0m\u001b[0;34m(\u001b[0m\u001b[0mdf\u001b[0m\u001b[0;34m)\u001b[0m\u001b[0;34m\u001b[0m\u001b[0;34m\u001b[0m\u001b[0m\n\u001b[1;32m      3\u001b[0m \u001b[0mprint\u001b[0m\u001b[0;34m(\u001b[0m\u001b[0;34m\"Między między 2010-01-01 a 2011-02-01 odbyło się {} wypożyczeń\"\u001b[0m\u001b[0;34m.\u001b[0m\u001b[0mformat\u001b[0m\u001b[0;34m(\u001b[0m\u001b[0mmax\u001b[0m\u001b[0;34m(\u001b[0m\u001b[0mdf\u001b[0m\u001b[0;34m.\u001b[0m\u001b[0mindex\u001b[0m\u001b[0;34m)\u001b[0m\u001b[0;34m+\u001b[0m\u001b[0;36m1\u001b[0m\u001b[0;34m)\u001b[0m\u001b[0;34m)\u001b[0m\u001b[0;34m\u001b[0m\u001b[0;34m\u001b[0m\u001b[0m\n",
            "\u001b[0;32m/usr/local/lib/python3.7/dist-packages/pandas/io/sql.py\u001b[0m in \u001b[0;36mread_sql\u001b[0;34m(sql, con, index_col, coerce_float, params, parse_dates, columns, chunksize)\u001b[0m\n\u001b[1;32m    487\u001b[0m             \u001b[0mcoerce_float\u001b[0m\u001b[0;34m=\u001b[0m\u001b[0mcoerce_float\u001b[0m\u001b[0;34m,\u001b[0m\u001b[0;34m\u001b[0m\u001b[0;34m\u001b[0m\u001b[0m\n\u001b[1;32m    488\u001b[0m             \u001b[0mparse_dates\u001b[0m\u001b[0;34m=\u001b[0m\u001b[0mparse_dates\u001b[0m\u001b[0;34m,\u001b[0m\u001b[0;34m\u001b[0m\u001b[0;34m\u001b[0m\u001b[0m\n\u001b[0;32m--> 489\u001b[0;31m             \u001b[0mchunksize\u001b[0m\u001b[0;34m=\u001b[0m\u001b[0mchunksize\u001b[0m\u001b[0;34m,\u001b[0m\u001b[0;34m\u001b[0m\u001b[0;34m\u001b[0m\u001b[0m\n\u001b[0m\u001b[1;32m    490\u001b[0m         )\n\u001b[1;32m    491\u001b[0m \u001b[0;34m\u001b[0m\u001b[0m\n",
            "\u001b[0;32m/usr/local/lib/python3.7/dist-packages/pandas/io/sql.py\u001b[0m in \u001b[0;36mread_query\u001b[0;34m(self, sql, index_col, coerce_float, params, parse_dates, chunksize)\u001b[0m\n\u001b[1;32m   1725\u001b[0m \u001b[0;34m\u001b[0m\u001b[0m\n\u001b[1;32m   1726\u001b[0m         \u001b[0margs\u001b[0m \u001b[0;34m=\u001b[0m \u001b[0m_convert_params\u001b[0m\u001b[0;34m(\u001b[0m\u001b[0msql\u001b[0m\u001b[0;34m,\u001b[0m \u001b[0mparams\u001b[0m\u001b[0;34m)\u001b[0m\u001b[0;34m\u001b[0m\u001b[0;34m\u001b[0m\u001b[0m\n\u001b[0;32m-> 1727\u001b[0;31m         \u001b[0mcursor\u001b[0m \u001b[0;34m=\u001b[0m \u001b[0mself\u001b[0m\u001b[0;34m.\u001b[0m\u001b[0mexecute\u001b[0m\u001b[0;34m(\u001b[0m\u001b[0;34m*\u001b[0m\u001b[0margs\u001b[0m\u001b[0;34m)\u001b[0m\u001b[0;34m\u001b[0m\u001b[0;34m\u001b[0m\u001b[0m\n\u001b[0m\u001b[1;32m   1728\u001b[0m         \u001b[0mcolumns\u001b[0m \u001b[0;34m=\u001b[0m \u001b[0;34m[\u001b[0m\u001b[0mcol_desc\u001b[0m\u001b[0;34m[\u001b[0m\u001b[0;36m0\u001b[0m\u001b[0;34m]\u001b[0m \u001b[0;32mfor\u001b[0m \u001b[0mcol_desc\u001b[0m \u001b[0;32min\u001b[0m \u001b[0mcursor\u001b[0m\u001b[0;34m.\u001b[0m\u001b[0mdescription\u001b[0m\u001b[0;34m]\u001b[0m\u001b[0;34m\u001b[0m\u001b[0;34m\u001b[0m\u001b[0m\n\u001b[1;32m   1729\u001b[0m \u001b[0;34m\u001b[0m\u001b[0m\n",
            "\u001b[0;32m/usr/local/lib/python3.7/dist-packages/pandas/io/sql.py\u001b[0m in \u001b[0;36mexecute\u001b[0;34m(self, *args, **kwargs)\u001b[0m\n\u001b[1;32m   1691\u001b[0m \u001b[0;34m\u001b[0m\u001b[0m\n\u001b[1;32m   1692\u001b[0m             \u001b[0mex\u001b[0m \u001b[0;34m=\u001b[0m \u001b[0mDatabaseError\u001b[0m\u001b[0;34m(\u001b[0m\u001b[0;34mf\"Execution failed on sql '{args[0]}': {exc}\"\u001b[0m\u001b[0;34m)\u001b[0m\u001b[0;34m\u001b[0m\u001b[0;34m\u001b[0m\u001b[0m\n\u001b[0;32m-> 1693\u001b[0;31m             \u001b[0;32mraise\u001b[0m \u001b[0mex\u001b[0m \u001b[0;32mfrom\u001b[0m \u001b[0mexc\u001b[0m\u001b[0;34m\u001b[0m\u001b[0;34m\u001b[0m\u001b[0m\n\u001b[0m\u001b[1;32m   1694\u001b[0m \u001b[0;34m\u001b[0m\u001b[0m\n\u001b[1;32m   1695\u001b[0m     \u001b[0;34m@\u001b[0m\u001b[0mstaticmethod\u001b[0m\u001b[0;34m\u001b[0m\u001b[0;34m\u001b[0m\u001b[0m\n",
            "\u001b[0;31mDatabaseError\u001b[0m: Execution failed on sql 'select * from rental where rental_date between between '2010-01-01'  and '2011-02-01' ': syntax error at or near \"'2010-01-01'\"\nLINE 1: ...t * from rental where rental_date between between '2010-01-0...\n                                                             ^\n"
          ]
        }
      ]
    },
    {
      "cell_type": "markdown",
      "metadata": {
        "id": "RHZMMwhDbiLM"
      },
      "source": [
        "Nie ma wypożyczeń między 2010-01-01 a 2011-02-01"
      ]
    },
    {
      "cell_type": "markdown",
      "metadata": {
        "id": "P6fRs546c1_9"
      },
      "source": [
        "6)Znajdź największą płatność wypożyczenia."
      ]
    },
    {
      "cell_type": "code",
      "metadata": {
        "colab": {
          "base_uri": "https://localhost:8080/",
          "height": 597
        },
        "id": "IIm9CCiLnE6o",
        "outputId": "0bc2b225-73f9-4b4d-c65d-61aca85060aa"
      },
      "source": [
        "df = pd.read_sql('select * from payment order by amount DESC',con=connection)\n",
        "df\n"
      ],
      "execution_count": 36,
      "outputs": [
        {
          "output_type": "execute_result",
          "data": {
            "text/html": [
              "<div>\n",
              "<style scoped>\n",
              "    .dataframe tbody tr th:only-of-type {\n",
              "        vertical-align: middle;\n",
              "    }\n",
              "\n",
              "    .dataframe tbody tr th {\n",
              "        vertical-align: top;\n",
              "    }\n",
              "\n",
              "    .dataframe thead th {\n",
              "        text-align: right;\n",
              "    }\n",
              "</style>\n",
              "<table border=\"1\" class=\"dataframe\">\n",
              "  <thead>\n",
              "    <tr style=\"text-align: right;\">\n",
              "      <th></th>\n",
              "      <th>payment_id</th>\n",
              "      <th>customer_id</th>\n",
              "      <th>staff_id</th>\n",
              "      <th>rental_id</th>\n",
              "      <th>amount</th>\n",
              "      <th>payment_date</th>\n",
              "    </tr>\n",
              "  </thead>\n",
              "  <tbody>\n",
              "    <tr>\n",
              "      <th>0</th>\n",
              "      <td>23757</td>\n",
              "      <td>116</td>\n",
              "      <td>2</td>\n",
              "      <td>14763</td>\n",
              "      <td>11.99</td>\n",
              "      <td>2007-03-21 22:02:26.996577</td>\n",
              "    </tr>\n",
              "    <tr>\n",
              "      <th>1</th>\n",
              "      <td>28814</td>\n",
              "      <td>592</td>\n",
              "      <td>1</td>\n",
              "      <td>3973</td>\n",
              "      <td>11.99</td>\n",
              "      <td>2007-04-06 21:26:57.996577</td>\n",
              "    </tr>\n",
              "    <tr>\n",
              "      <th>2</th>\n",
              "      <td>29136</td>\n",
              "      <td>13</td>\n",
              "      <td>2</td>\n",
              "      <td>8831</td>\n",
              "      <td>11.99</td>\n",
              "      <td>2007-04-29 21:06:07.996577</td>\n",
              "    </tr>\n",
              "    <tr>\n",
              "      <th>3</th>\n",
              "      <td>22650</td>\n",
              "      <td>204</td>\n",
              "      <td>2</td>\n",
              "      <td>15415</td>\n",
              "      <td>11.99</td>\n",
              "      <td>2007-03-22 22:17:22.996577</td>\n",
              "    </tr>\n",
              "    <tr>\n",
              "      <th>4</th>\n",
              "      <td>28799</td>\n",
              "      <td>591</td>\n",
              "      <td>2</td>\n",
              "      <td>4383</td>\n",
              "      <td>11.99</td>\n",
              "      <td>2007-04-07 19:14:17.996577</td>\n",
              "    </tr>\n",
              "    <tr>\n",
              "      <th>...</th>\n",
              "      <td>...</td>\n",
              "      <td>...</td>\n",
              "      <td>...</td>\n",
              "      <td>...</td>\n",
              "      <td>...</td>\n",
              "      <td>...</td>\n",
              "    </tr>\n",
              "    <tr>\n",
              "      <th>14591</th>\n",
              "      <td>31942</td>\n",
              "      <td>354</td>\n",
              "      <td>1</td>\n",
              "      <td>11782</td>\n",
              "      <td>0.00</td>\n",
              "      <td>2007-05-14 13:44:29.996577</td>\n",
              "    </tr>\n",
              "    <tr>\n",
              "      <th>14592</th>\n",
              "      <td>32060</td>\n",
              "      <td>155</td>\n",
              "      <td>1</td>\n",
              "      <td>12352</td>\n",
              "      <td>0.00</td>\n",
              "      <td>2007-05-14 13:44:29.996577</td>\n",
              "    </tr>\n",
              "    <tr>\n",
              "      <th>14593</th>\n",
              "      <td>32079</td>\n",
              "      <td>208</td>\n",
              "      <td>1</td>\n",
              "      <td>15717</td>\n",
              "      <td>0.00</td>\n",
              "      <td>2007-05-14 13:44:29.996577</td>\n",
              "    </tr>\n",
              "    <tr>\n",
              "      <th>14594</th>\n",
              "      <td>32024</td>\n",
              "      <td>42</td>\n",
              "      <td>1</td>\n",
              "      <td>15407</td>\n",
              "      <td>0.00</td>\n",
              "      <td>2007-05-14 13:44:29.996577</td>\n",
              "    </tr>\n",
              "    <tr>\n",
              "      <th>14595</th>\n",
              "      <td>31966</td>\n",
              "      <td>448</td>\n",
              "      <td>1</td>\n",
              "      <td>13577</td>\n",
              "      <td>0.00</td>\n",
              "      <td>2007-05-14 13:44:29.996577</td>\n",
              "    </tr>\n",
              "  </tbody>\n",
              "</table>\n",
              "<p>14596 rows × 6 columns</p>\n",
              "</div>"
            ],
            "text/plain": [
              "       payment_id  customer_id  ...  amount               payment_date\n",
              "0           23757          116  ...   11.99 2007-03-21 22:02:26.996577\n",
              "1           28814          592  ...   11.99 2007-04-06 21:26:57.996577\n",
              "2           29136           13  ...   11.99 2007-04-29 21:06:07.996577\n",
              "3           22650          204  ...   11.99 2007-03-22 22:17:22.996577\n",
              "4           28799          591  ...   11.99 2007-04-07 19:14:17.996577\n",
              "...           ...          ...  ...     ...                        ...\n",
              "14591       31942          354  ...    0.00 2007-05-14 13:44:29.996577\n",
              "14592       32060          155  ...    0.00 2007-05-14 13:44:29.996577\n",
              "14593       32079          208  ...    0.00 2007-05-14 13:44:29.996577\n",
              "14594       32024           42  ...    0.00 2007-05-14 13:44:29.996577\n",
              "14595       31966          448  ...    0.00 2007-05-14 13:44:29.996577\n",
              "\n",
              "[14596 rows x 6 columns]"
            ]
          },
          "metadata": {},
          "execution_count": 36
        }
      ]
    },
    {
      "cell_type": "code",
      "metadata": {
        "colab": {
          "base_uri": "https://localhost:8080/",
          "height": 439
        },
        "id": "wibmfUWnvrai",
        "outputId": "96725683-a77c-4ed4-f577-85449c6049dd"
      },
      "source": [
        "df = pd.read_sql('select * from payment where amount = \\'11.99\\' ',con=connection)\n",
        "df\n"
      ],
      "execution_count": 35,
      "outputs": [
        {
          "output_type": "execute_result",
          "data": {
            "text/html": [
              "<div>\n",
              "<style scoped>\n",
              "    .dataframe tbody tr th:only-of-type {\n",
              "        vertical-align: middle;\n",
              "    }\n",
              "\n",
              "    .dataframe tbody tr th {\n",
              "        vertical-align: top;\n",
              "    }\n",
              "\n",
              "    .dataframe thead th {\n",
              "        text-align: right;\n",
              "    }\n",
              "</style>\n",
              "<table border=\"1\" class=\"dataframe\">\n",
              "  <thead>\n",
              "    <tr style=\"text-align: right;\">\n",
              "      <th></th>\n",
              "      <th>payment_id</th>\n",
              "      <th>customer_id</th>\n",
              "      <th>staff_id</th>\n",
              "      <th>rental_id</th>\n",
              "      <th>amount</th>\n",
              "      <th>payment_date</th>\n",
              "    </tr>\n",
              "  </thead>\n",
              "  <tbody>\n",
              "    <tr>\n",
              "      <th>0</th>\n",
              "      <td>20403</td>\n",
              "      <td>362</td>\n",
              "      <td>1</td>\n",
              "      <td>14759</td>\n",
              "      <td>11.99</td>\n",
              "      <td>2007-03-21 21:57:24.996577</td>\n",
              "    </tr>\n",
              "    <tr>\n",
              "      <th>1</th>\n",
              "      <td>22650</td>\n",
              "      <td>204</td>\n",
              "      <td>2</td>\n",
              "      <td>15415</td>\n",
              "      <td>11.99</td>\n",
              "      <td>2007-03-22 22:17:22.996577</td>\n",
              "    </tr>\n",
              "    <tr>\n",
              "      <th>2</th>\n",
              "      <td>23757</td>\n",
              "      <td>116</td>\n",
              "      <td>2</td>\n",
              "      <td>14763</td>\n",
              "      <td>11.99</td>\n",
              "      <td>2007-03-21 22:02:26.996577</td>\n",
              "    </tr>\n",
              "    <tr>\n",
              "      <th>3</th>\n",
              "      <td>24553</td>\n",
              "      <td>195</td>\n",
              "      <td>2</td>\n",
              "      <td>16040</td>\n",
              "      <td>11.99</td>\n",
              "      <td>2007-03-23 20:47:59.996577</td>\n",
              "    </tr>\n",
              "    <tr>\n",
              "      <th>4</th>\n",
              "      <td>24866</td>\n",
              "      <td>237</td>\n",
              "      <td>2</td>\n",
              "      <td>11479</td>\n",
              "      <td>11.99</td>\n",
              "      <td>2007-03-02 20:46:39.996577</td>\n",
              "    </tr>\n",
              "    <tr>\n",
              "      <th>5</th>\n",
              "      <td>28799</td>\n",
              "      <td>591</td>\n",
              "      <td>2</td>\n",
              "      <td>4383</td>\n",
              "      <td>11.99</td>\n",
              "      <td>2007-04-07 19:14:17.996577</td>\n",
              "    </tr>\n",
              "    <tr>\n",
              "      <th>6</th>\n",
              "      <td>28814</td>\n",
              "      <td>592</td>\n",
              "      <td>1</td>\n",
              "      <td>3973</td>\n",
              "      <td>11.99</td>\n",
              "      <td>2007-04-06 21:26:57.996577</td>\n",
              "    </tr>\n",
              "    <tr>\n",
              "      <th>7</th>\n",
              "      <td>29136</td>\n",
              "      <td>13</td>\n",
              "      <td>2</td>\n",
              "      <td>8831</td>\n",
              "      <td>11.99</td>\n",
              "      <td>2007-04-29 21:06:07.996577</td>\n",
              "    </tr>\n",
              "  </tbody>\n",
              "</table>\n",
              "</div>"
            ],
            "text/plain": [
              "   payment_id  customer_id  ...  amount               payment_date\n",
              "0       20403          362  ...   11.99 2007-03-21 21:57:24.996577\n",
              "1       22650          204  ...   11.99 2007-03-22 22:17:22.996577\n",
              "2       23757          116  ...   11.99 2007-03-21 22:02:26.996577\n",
              "3       24553          195  ...   11.99 2007-03-23 20:47:59.996577\n",
              "4       24866          237  ...   11.99 2007-03-02 20:46:39.996577\n",
              "5       28799          591  ...   11.99 2007-04-07 19:14:17.996577\n",
              "6       28814          592  ...   11.99 2007-04-06 21:26:57.996577\n",
              "7       29136           13  ...   11.99 2007-04-29 21:06:07.996577\n",
              "\n",
              "[8 rows x 6 columns]"
            ]
          },
          "metadata": {},
          "execution_count": 35
        }
      ]
    },
    {
      "cell_type": "markdown",
      "metadata": {
        "id": "JM6DMqzLwhBZ"
      },
      "source": [
        "7)Znajdź wszystkich klientów z Polski, Nigerii lub Bangladeszu."
      ]
    },
    {
      "cell_type": "markdown",
      "metadata": {
        "id": "yC79I8GtO1ZG"
      },
      "source": [
        ""
      ]
    },
    {
      "cell_type": "code",
      "metadata": {
        "colab": {
          "base_uri": "https://localhost:8080/",
          "height": 1000
        },
        "id": "11_z1qIY9xbj",
        "outputId": "b98fc311-11c7-4d8b-f7e8-4f2dbbec0944"
      },
      "source": [
        "df1 = pd.read_sql('select * from customer_list where country = \\'Poland\\'  or country = \\'Bangladesh\\' or country = \\'Nigeria\\' ',con=connection)\n",
        "df1"
      ],
      "execution_count": 34,
      "outputs": [
        {
          "output_type": "execute_result",
          "data": {
            "text/html": [
              "<div>\n",
              "<style scoped>\n",
              "    .dataframe tbody tr th:only-of-type {\n",
              "        vertical-align: middle;\n",
              "    }\n",
              "\n",
              "    .dataframe tbody tr th {\n",
              "        vertical-align: top;\n",
              "    }\n",
              "\n",
              "    .dataframe thead th {\n",
              "        text-align: right;\n",
              "    }\n",
              "</style>\n",
              "<table border=\"1\" class=\"dataframe\">\n",
              "  <thead>\n",
              "    <tr style=\"text-align: right;\">\n",
              "      <th></th>\n",
              "      <th>id</th>\n",
              "      <th>name</th>\n",
              "      <th>address</th>\n",
              "      <th>zip code</th>\n",
              "      <th>phone</th>\n",
              "      <th>city</th>\n",
              "      <th>country</th>\n",
              "      <th>notes</th>\n",
              "      <th>sid</th>\n",
              "    </tr>\n",
              "  </thead>\n",
              "  <tbody>\n",
              "    <tr>\n",
              "      <th>0</th>\n",
              "      <td>284</td>\n",
              "      <td>Sonia Gregory</td>\n",
              "      <td>1279 Udine Parkway</td>\n",
              "      <td>75860</td>\n",
              "      <td>195003555232</td>\n",
              "      <td>Benin City</td>\n",
              "      <td>Nigeria</td>\n",
              "      <td>active</td>\n",
              "      <td>1</td>\n",
              "    </tr>\n",
              "    <tr>\n",
              "      <th>1</th>\n",
              "      <td>318</td>\n",
              "      <td>Brian Wyman</td>\n",
              "      <td>1769 Iwaki Lane</td>\n",
              "      <td>25787</td>\n",
              "      <td>556100547674</td>\n",
              "      <td>Bydgoszcz</td>\n",
              "      <td>Poland</td>\n",
              "      <td>active</td>\n",
              "      <td>1</td>\n",
              "    </tr>\n",
              "    <tr>\n",
              "      <th>2</th>\n",
              "      <td>572</td>\n",
              "      <td>Sidney Burleson</td>\n",
              "      <td>1405 Hagonoy Avenue</td>\n",
              "      <td>86587</td>\n",
              "      <td>867287719310</td>\n",
              "      <td>Czestochowa</td>\n",
              "      <td>Poland</td>\n",
              "      <td>active</td>\n",
              "      <td>1</td>\n",
              "    </tr>\n",
              "    <tr>\n",
              "      <th>3</th>\n",
              "      <td>409</td>\n",
              "      <td>Rodney Moeller</td>\n",
              "      <td>1936 Lapu-Lapu Parkway</td>\n",
              "      <td>7122</td>\n",
              "      <td>653436985797</td>\n",
              "      <td>Deba Habe</td>\n",
              "      <td>Nigeria</td>\n",
              "      <td>active</td>\n",
              "      <td>2</td>\n",
              "    </tr>\n",
              "    <tr>\n",
              "      <th>4</th>\n",
              "      <td>332</td>\n",
              "      <td>Stephen Qualls</td>\n",
              "      <td>1838 Tabriz Lane</td>\n",
              "      <td>1195</td>\n",
              "      <td>38988715447</td>\n",
              "      <td>Dhaka</td>\n",
              "      <td>Bangladesh</td>\n",
              "      <td>active</td>\n",
              "      <td>1</td>\n",
              "    </tr>\n",
              "    <tr>\n",
              "      <th>5</th>\n",
              "      <td>286</td>\n",
              "      <td>Velma Lucas</td>\n",
              "      <td>1155 Liaocheng Place</td>\n",
              "      <td>22650</td>\n",
              "      <td>558236142492</td>\n",
              "      <td>Effon-Alaiye</td>\n",
              "      <td>Nigeria</td>\n",
              "      <td>active</td>\n",
              "      <td>1</td>\n",
              "    </tr>\n",
              "    <tr>\n",
              "      <th>6</th>\n",
              "      <td>80</td>\n",
              "      <td>Marilyn Ross</td>\n",
              "      <td>1888 Kabul Drive</td>\n",
              "      <td>20936</td>\n",
              "      <td>701457319790</td>\n",
              "      <td>Ife</td>\n",
              "      <td>Nigeria</td>\n",
              "      <td>active</td>\n",
              "      <td>1</td>\n",
              "    </tr>\n",
              "    <tr>\n",
              "      <th>7</th>\n",
              "      <td>198</td>\n",
              "      <td>Elsie Kelley</td>\n",
              "      <td>955 Bamenda Way</td>\n",
              "      <td>1545</td>\n",
              "      <td>768481779568</td>\n",
              "      <td>Ikerre</td>\n",
              "      <td>Nigeria</td>\n",
              "      <td>active</td>\n",
              "      <td>2</td>\n",
              "    </tr>\n",
              "    <tr>\n",
              "      <th>8</th>\n",
              "      <td>103</td>\n",
              "      <td>Gladys Hamilton</td>\n",
              "      <td>1177 Jelets Way</td>\n",
              "      <td>3305</td>\n",
              "      <td>484292626944</td>\n",
              "      <td>Ilorin</td>\n",
              "      <td>Nigeria</td>\n",
              "      <td>active</td>\n",
              "      <td>1</td>\n",
              "    </tr>\n",
              "    <tr>\n",
              "      <th>9</th>\n",
              "      <td>329</td>\n",
              "      <td>Frank Waggoner</td>\n",
              "      <td>1816 Bydgoszcz Loop</td>\n",
              "      <td>64308</td>\n",
              "      <td>965273813662</td>\n",
              "      <td>Jamalpur</td>\n",
              "      <td>Bangladesh</td>\n",
              "      <td>active</td>\n",
              "      <td>2</td>\n",
              "    </tr>\n",
              "    <tr>\n",
              "      <th>10</th>\n",
              "      <td>128</td>\n",
              "      <td>Marjorie Tucker</td>\n",
              "      <td>1050 Garden Grove Avenue</td>\n",
              "      <td>4999</td>\n",
              "      <td>973047364353</td>\n",
              "      <td>Jastrzebie-Zdrj</td>\n",
              "      <td>Poland</td>\n",
              "      <td>active</td>\n",
              "      <td>1</td>\n",
              "    </tr>\n",
              "    <tr>\n",
              "      <th>11</th>\n",
              "      <td>18</td>\n",
              "      <td>Carol Garcia</td>\n",
              "      <td>320 Brest Avenue</td>\n",
              "      <td>43331</td>\n",
              "      <td>747791594069</td>\n",
              "      <td>Kaduna</td>\n",
              "      <td>Nigeria</td>\n",
              "      <td>active</td>\n",
              "      <td>2</td>\n",
              "    </tr>\n",
              "    <tr>\n",
              "      <th>12</th>\n",
              "      <td>270</td>\n",
              "      <td>Leah Curtis</td>\n",
              "      <td>906 Goinia Way</td>\n",
              "      <td>83565</td>\n",
              "      <td>701767622697</td>\n",
              "      <td>Kalisz</td>\n",
              "      <td>Poland</td>\n",
              "      <td>active</td>\n",
              "      <td>1</td>\n",
              "    </tr>\n",
              "    <tr>\n",
              "      <th>13</th>\n",
              "      <td>501</td>\n",
              "      <td>Ruben Geary</td>\n",
              "      <td>414 Mandaluyong Street</td>\n",
              "      <td>16370</td>\n",
              "      <td>52709222667</td>\n",
              "      <td>Lublin</td>\n",
              "      <td>Poland</td>\n",
              "      <td>active</td>\n",
              "      <td>1</td>\n",
              "    </tr>\n",
              "    <tr>\n",
              "      <th>14</th>\n",
              "      <td>277</td>\n",
              "      <td>Olga Jimenez</td>\n",
              "      <td>556 Baybay Manor</td>\n",
              "      <td>55802</td>\n",
              "      <td>363982224739</td>\n",
              "      <td>Ogbomosho</td>\n",
              "      <td>Nigeria</td>\n",
              "      <td>active</td>\n",
              "      <td>2</td>\n",
              "    </tr>\n",
              "    <tr>\n",
              "      <th>15</th>\n",
              "      <td>156</td>\n",
              "      <td>Bertha Ferguson</td>\n",
              "      <td>1367 Yantai Manor</td>\n",
              "      <td>21294</td>\n",
              "      <td>889538496300</td>\n",
              "      <td>Ondo</td>\n",
              "      <td>Nigeria</td>\n",
              "      <td>active</td>\n",
              "      <td>1</td>\n",
              "    </tr>\n",
              "    <tr>\n",
              "      <th>16</th>\n",
              "      <td>280</td>\n",
              "      <td>Tracey Barrett</td>\n",
              "      <td>1006 Santa Brbara dOeste Manor</td>\n",
              "      <td>36229</td>\n",
              "      <td>85059738746</td>\n",
              "      <td>Owo</td>\n",
              "      <td>Nigeria</td>\n",
              "      <td>active</td>\n",
              "      <td>2</td>\n",
              "    </tr>\n",
              "    <tr>\n",
              "      <th>17</th>\n",
              "      <td>250</td>\n",
              "      <td>Jo Fowler</td>\n",
              "      <td>786 Stara Zagora Way</td>\n",
              "      <td>98332</td>\n",
              "      <td>716256596301</td>\n",
              "      <td>Oyo</td>\n",
              "      <td>Nigeria</td>\n",
              "      <td>active</td>\n",
              "      <td>2</td>\n",
              "    </tr>\n",
              "    <tr>\n",
              "      <th>18</th>\n",
              "      <td>571</td>\n",
              "      <td>Johnnie Chisholm</td>\n",
              "      <td>1501 Pangkal Pinang Avenue</td>\n",
              "      <td>943</td>\n",
              "      <td>770864062795</td>\n",
              "      <td>Plock</td>\n",
              "      <td>Poland</td>\n",
              "      <td>active</td>\n",
              "      <td>2</td>\n",
              "    </tr>\n",
              "    <tr>\n",
              "      <th>19</th>\n",
              "      <td>562</td>\n",
              "      <td>Wallace Slone</td>\n",
              "      <td>1342 Sharja Way</td>\n",
              "      <td>93655</td>\n",
              "      <td>946114054231</td>\n",
              "      <td>Sokoto</td>\n",
              "      <td>Nigeria</td>\n",
              "      <td>active</td>\n",
              "      <td>1</td>\n",
              "    </tr>\n",
              "    <tr>\n",
              "      <th>20</th>\n",
              "      <td>21</td>\n",
              "      <td>Michelle Clark</td>\n",
              "      <td>262 A Corua (La Corua) Parkway</td>\n",
              "      <td>34418</td>\n",
              "      <td>892775750063</td>\n",
              "      <td>Tangail</td>\n",
              "      <td>Bangladesh</td>\n",
              "      <td>active</td>\n",
              "      <td>1</td>\n",
              "    </tr>\n",
              "    <tr>\n",
              "      <th>21</th>\n",
              "      <td>380</td>\n",
              "      <td>Russell Brinson</td>\n",
              "      <td>1642 Charlotte Amalie Drive</td>\n",
              "      <td>75442</td>\n",
              "      <td>821476736117</td>\n",
              "      <td>Tychy</td>\n",
              "      <td>Poland</td>\n",
              "      <td>active</td>\n",
              "      <td>1</td>\n",
              "    </tr>\n",
              "    <tr>\n",
              "      <th>22</th>\n",
              "      <td>558</td>\n",
              "      <td>Jimmie Eggleston</td>\n",
              "      <td>505 Madiun Boulevard</td>\n",
              "      <td>97271</td>\n",
              "      <td>970638808606</td>\n",
              "      <td>Wroclaw</td>\n",
              "      <td>Poland</td>\n",
              "      <td>active</td>\n",
              "      <td>1</td>\n",
              "    </tr>\n",
              "    <tr>\n",
              "      <th>23</th>\n",
              "      <td>232</td>\n",
              "      <td>Constance Reid</td>\n",
              "      <td>885 Yingkou Manor</td>\n",
              "      <td>31390</td>\n",
              "      <td>588964509072</td>\n",
              "      <td>Zaria</td>\n",
              "      <td>Nigeria</td>\n",
              "      <td>active</td>\n",
              "      <td>2</td>\n",
              "    </tr>\n",
              "  </tbody>\n",
              "</table>\n",
              "</div>"
            ],
            "text/plain": [
              "     id              name  ...   notes sid\n",
              "0   284     Sonia Gregory  ...  active   1\n",
              "1   318       Brian Wyman  ...  active   1\n",
              "2   572   Sidney Burleson  ...  active   1\n",
              "3   409    Rodney Moeller  ...  active   2\n",
              "4   332    Stephen Qualls  ...  active   1\n",
              "5   286       Velma Lucas  ...  active   1\n",
              "6    80      Marilyn Ross  ...  active   1\n",
              "7   198      Elsie Kelley  ...  active   2\n",
              "8   103   Gladys Hamilton  ...  active   1\n",
              "9   329    Frank Waggoner  ...  active   2\n",
              "10  128   Marjorie Tucker  ...  active   1\n",
              "11   18      Carol Garcia  ...  active   2\n",
              "12  270       Leah Curtis  ...  active   1\n",
              "13  501       Ruben Geary  ...  active   1\n",
              "14  277      Olga Jimenez  ...  active   2\n",
              "15  156   Bertha Ferguson  ...  active   1\n",
              "16  280    Tracey Barrett  ...  active   2\n",
              "17  250         Jo Fowler  ...  active   2\n",
              "18  571  Johnnie Chisholm  ...  active   2\n",
              "19  562     Wallace Slone  ...  active   1\n",
              "20   21    Michelle Clark  ...  active   1\n",
              "21  380   Russell Brinson  ...  active   1\n",
              "22  558  Jimmie Eggleston  ...  active   1\n",
              "23  232    Constance Reid  ...  active   2\n",
              "\n",
              "[24 rows x 9 columns]"
            ]
          },
          "metadata": {},
          "execution_count": 34
        }
      ]
    },
    {
      "cell_type": "markdown",
      "metadata": {
        "id": "B-G1tLia-2yA"
      },
      "source": [
        "8)Gdzie mieszkają członkowie personelu?"
      ]
    },
    {
      "cell_type": "code",
      "metadata": {
        "colab": {
          "base_uri": "https://localhost:8080/",
          "height": 164
        },
        "id": "AniOazm3_rFi",
        "outputId": "1ed16580-5413-43f7-b934-1a79a9777e5d"
      },
      "source": [
        "df1 = pd.read_sql('select * from staff_list' ,con=connection)\n",
        "df1"
      ],
      "execution_count": 33,
      "outputs": [
        {
          "output_type": "execute_result",
          "data": {
            "text/html": [
              "<div>\n",
              "<style scoped>\n",
              "    .dataframe tbody tr th:only-of-type {\n",
              "        vertical-align: middle;\n",
              "    }\n",
              "\n",
              "    .dataframe tbody tr th {\n",
              "        vertical-align: top;\n",
              "    }\n",
              "\n",
              "    .dataframe thead th {\n",
              "        text-align: right;\n",
              "    }\n",
              "</style>\n",
              "<table border=\"1\" class=\"dataframe\">\n",
              "  <thead>\n",
              "    <tr style=\"text-align: right;\">\n",
              "      <th></th>\n",
              "      <th>id</th>\n",
              "      <th>name</th>\n",
              "      <th>address</th>\n",
              "      <th>zip code</th>\n",
              "      <th>phone</th>\n",
              "      <th>city</th>\n",
              "      <th>country</th>\n",
              "      <th>sid</th>\n",
              "    </tr>\n",
              "  </thead>\n",
              "  <tbody>\n",
              "    <tr>\n",
              "      <th>0</th>\n",
              "      <td>1</td>\n",
              "      <td>Mike Hillyer</td>\n",
              "      <td>23 Workhaven Lane</td>\n",
              "      <td></td>\n",
              "      <td>14033335568</td>\n",
              "      <td>Lethbridge</td>\n",
              "      <td>Canada</td>\n",
              "      <td>1</td>\n",
              "    </tr>\n",
              "    <tr>\n",
              "      <th>1</th>\n",
              "      <td>2</td>\n",
              "      <td>Jon Stephens</td>\n",
              "      <td>1411 Lillydale Drive</td>\n",
              "      <td></td>\n",
              "      <td>6172235589</td>\n",
              "      <td>Woodridge</td>\n",
              "      <td>Australia</td>\n",
              "      <td>2</td>\n",
              "    </tr>\n",
              "  </tbody>\n",
              "</table>\n",
              "</div>"
            ],
            "text/plain": [
              "   id          name               address  ...        city    country sid\n",
              "0   1  Mike Hillyer     23 Workhaven Lane  ...  Lethbridge     Canada   1\n",
              "1   2  Jon Stephens  1411 Lillydale Drive  ...   Woodridge  Australia   2\n",
              "\n",
              "[2 rows x 8 columns]"
            ]
          },
          "metadata": {},
          "execution_count": 33
        }
      ]
    },
    {
      "cell_type": "code",
      "metadata": {
        "colab": {
          "base_uri": "https://localhost:8080/"
        },
        "id": "lNdiVSA9-1RR",
        "outputId": "0d2aa8e9-acae-4ac0-fdc2-96ea7a733188"
      },
      "source": [
        "df1 = pd.read_sql('select distinct address,city,country from staff_list' ,con=connection)\n",
        "print(df1)"
      ],
      "execution_count": 13,
      "outputs": [
        {
          "output_type": "stream",
          "name": "stdout",
          "text": [
            "                address        city    country\n",
            "0  1411 Lillydale Drive   Woodridge  Australia\n",
            "1     23 Workhaven Lane  Lethbridge     Canada\n"
          ]
        }
      ]
    },
    {
      "cell_type": "markdown",
      "metadata": {
        "id": "uQjP4v52AGKx"
      },
      "source": [
        "9)Ilu pracowników mieszka w Argentynie lub Hiszpanii?"
      ]
    },
    {
      "cell_type": "code",
      "metadata": {
        "colab": {
          "base_uri": "https://localhost:8080/"
        },
        "id": "3ECA5T-cAHd-",
        "outputId": "c58eb3cb-c8dc-4577-b3ba-70cf36ea6728"
      },
      "source": [
        "df1 = pd.read_sql('select count(*) from staff_list where country = \\'Argentina\\' or country = \\'Spain\\'',con=connection)\n",
        "print(\"Ilość pracowników z Argentyny i Hiszpanii: {}\".format(df1.at[0,'count']))"
      ],
      "execution_count": 14,
      "outputs": [
        {
          "output_type": "stream",
          "name": "stdout",
          "text": [
            "Ilość pracowników z Argentyny i Hiszpanii: 0\n"
          ]
        }
      ]
    },
    {
      "cell_type": "markdown",
      "metadata": {
        "id": "b2apS5HwDVbn"
      },
      "source": [
        "10)Jakie kategorie filmów zostały wypożyczone przez klientów?"
      ]
    },
    {
      "cell_type": "code",
      "metadata": {
        "colab": {
          "base_uri": "https://localhost:8080/"
        },
        "id": "EDKpSkXlLvnB",
        "outputId": "6e160367-b3e9-4494-d3b5-c435d6d3461e"
      },
      "source": [
        "df1 = pd.read_sql('''\n",
        "  select name from category where category_id in  \n",
        "    (select distinct category_id from film_category where film_id in \n",
        "      (select film_id from inventory where inventory_id in \n",
        "        (select inventory_id from rental where customer_id in \n",
        "          (select id from customer_list)\n",
        "        )\n",
        "      )\n",
        "    )''',con=connection)\n",
        "print(df1)"
      ],
      "execution_count": 30,
      "outputs": [
        {
          "output_type": "stream",
          "name": "stdout",
          "text": [
            "           name\n",
            "0        Family\n",
            "1        Travel\n",
            "2        Sports\n",
            "3      Classics\n",
            "4        Action\n",
            "5           New\n",
            "6        Comedy\n",
            "7        Horror\n",
            "8      Children\n",
            "9        Sci-Fi\n",
            "10        Music\n",
            "11        Games\n",
            "12      Foreign\n",
            "13  Documentary\n",
            "14    Animation\n",
            "15        Drama\n"
          ]
        }
      ]
    },
    {
      "cell_type": "markdown",
      "metadata": {
        "id": "2LOdOaB9JzUg"
      },
      "source": [
        "11)Znajdź wszystkie kategorie filmów wypożyczonych w Ameryce."
      ]
    },
    {
      "cell_type": "code",
      "metadata": {
        "colab": {
          "base_uri": "https://localhost:8080/"
        },
        "id": "Q6kZdfhbJ0gg",
        "outputId": "1095eac8-f7bd-40ca-e337-c0fe2bb64ca5"
      },
      "source": [
        "df1 = pd.read_sql('''\n",
        "  select name from category where category_id in  \n",
        "    (select distinct category_id from film_category where film_id in \n",
        "      (select film_id from inventory where inventory_id in \n",
        "        (select inventory_id from rental where customer_id in \n",
        "          (select id from customer_list where country = \\'United States\\')\n",
        "        )\n",
        "      )\n",
        "    )''',con=connection)\n",
        "print(df1)"
      ],
      "execution_count": 31,
      "outputs": [
        {
          "output_type": "stream",
          "name": "stdout",
          "text": [
            "           name\n",
            "0        Family\n",
            "1        Travel\n",
            "2        Sports\n",
            "3      Classics\n",
            "4        Action\n",
            "5           New\n",
            "6        Comedy\n",
            "7        Horror\n",
            "8      Children\n",
            "9        Sci-Fi\n",
            "10        Music\n",
            "11        Games\n",
            "12      Foreign\n",
            "13  Documentary\n",
            "14    Animation\n",
            "15        Drama\n"
          ]
        }
      ]
    },
    {
      "cell_type": "markdown",
      "metadata": {
        "id": "Tl8lZQvpDwOy"
      },
      "source": [
        "12)Znajdź wszystkie tytuły filmów, w których grał: Olympia Pfeiffer lub Julia Zellweger lub Ellen Presley"
      ]
    },
    {
      "cell_type": "code",
      "metadata": {
        "colab": {
          "base_uri": "https://localhost:8080/",
          "height": 1000
        },
        "id": "ijv7aXfZFX04",
        "outputId": "8afde507-8f1e-4a8b-b8f0-e90356783244"
      },
      "source": [
        "df1 = pd.read_sql('select * from film_list ',con=connection)\n",
        "df1"
      ],
      "execution_count": 32,
      "outputs": [
        {
          "output_type": "execute_result",
          "data": {
            "text/html": [
              "<div>\n",
              "<style scoped>\n",
              "    .dataframe tbody tr th:only-of-type {\n",
              "        vertical-align: middle;\n",
              "    }\n",
              "\n",
              "    .dataframe tbody tr th {\n",
              "        vertical-align: top;\n",
              "    }\n",
              "\n",
              "    .dataframe thead th {\n",
              "        text-align: right;\n",
              "    }\n",
              "</style>\n",
              "<table border=\"1\" class=\"dataframe\">\n",
              "  <thead>\n",
              "    <tr style=\"text-align: right;\">\n",
              "      <th></th>\n",
              "      <th>fid</th>\n",
              "      <th>title</th>\n",
              "      <th>description</th>\n",
              "      <th>category</th>\n",
              "      <th>price</th>\n",
              "      <th>length</th>\n",
              "      <th>rating</th>\n",
              "      <th>actors</th>\n",
              "    </tr>\n",
              "  </thead>\n",
              "  <tbody>\n",
              "    <tr>\n",
              "      <th>0</th>\n",
              "      <td>1</td>\n",
              "      <td>Academy Dinosaur</td>\n",
              "      <td>A Epic Drama of a Feminist And a Mad Scientist...</td>\n",
              "      <td>Documentary</td>\n",
              "      <td>0.99</td>\n",
              "      <td>86</td>\n",
              "      <td>PG</td>\n",
              "      <td>Mary Keitel, Rock Dukakis, Oprah Kilmer, Warre...</td>\n",
              "    </tr>\n",
              "    <tr>\n",
              "      <th>1</th>\n",
              "      <td>2</td>\n",
              "      <td>Ace Goldfinger</td>\n",
              "      <td>A Astounding Epistle of a Database Administrat...</td>\n",
              "      <td>Horror</td>\n",
              "      <td>4.99</td>\n",
              "      <td>48</td>\n",
              "      <td>G</td>\n",
              "      <td>Chris Depp, Sean Guiness, Minnie Zellweger, Bo...</td>\n",
              "    </tr>\n",
              "    <tr>\n",
              "      <th>2</th>\n",
              "      <td>3</td>\n",
              "      <td>Adaptation Holes</td>\n",
              "      <td>A Astounding Reflection of a Lumberjack And a ...</td>\n",
              "      <td>Documentary</td>\n",
              "      <td>2.99</td>\n",
              "      <td>50</td>\n",
              "      <td>NC-17</td>\n",
              "      <td>Julianne Dench, Ray Johansson, Cameron Streep,...</td>\n",
              "    </tr>\n",
              "    <tr>\n",
              "      <th>3</th>\n",
              "      <td>4</td>\n",
              "      <td>Affair Prejudice</td>\n",
              "      <td>A Fanciful Documentary of a Frisbee And a Lumb...</td>\n",
              "      <td>Horror</td>\n",
              "      <td>2.99</td>\n",
              "      <td>117</td>\n",
              "      <td>G</td>\n",
              "      <td>Oprah Kilmer, Fay Winslet, Kenneth Pesci, Scar...</td>\n",
              "    </tr>\n",
              "    <tr>\n",
              "      <th>4</th>\n",
              "      <td>5</td>\n",
              "      <td>African Egg</td>\n",
              "      <td>A Fast-Paced Documentary of a Pastry Chef And ...</td>\n",
              "      <td>Family</td>\n",
              "      <td>2.99</td>\n",
              "      <td>130</td>\n",
              "      <td>G</td>\n",
              "      <td>Thora Temple, Matthew Carrey, Matthew Leigh, D...</td>\n",
              "    </tr>\n",
              "    <tr>\n",
              "      <th>...</th>\n",
              "      <td>...</td>\n",
              "      <td>...</td>\n",
              "      <td>...</td>\n",
              "      <td>...</td>\n",
              "      <td>...</td>\n",
              "      <td>...</td>\n",
              "      <td>...</td>\n",
              "      <td>...</td>\n",
              "    </tr>\n",
              "    <tr>\n",
              "      <th>992</th>\n",
              "      <td>996</td>\n",
              "      <td>Young Language</td>\n",
              "      <td>A Unbelieveable Yarn of a Boat And a Database ...</td>\n",
              "      <td>Documentary</td>\n",
              "      <td>0.99</td>\n",
              "      <td>183</td>\n",
              "      <td>G</td>\n",
              "      <td>Mena Hopper, Christopher West, James Pitt, Jul...</td>\n",
              "    </tr>\n",
              "    <tr>\n",
              "      <th>993</th>\n",
              "      <td>997</td>\n",
              "      <td>Youth Kick</td>\n",
              "      <td>A Touching Drama of a Teacher And a Cat who mu...</td>\n",
              "      <td>Music</td>\n",
              "      <td>0.99</td>\n",
              "      <td>179</td>\n",
              "      <td>NC-17</td>\n",
              "      <td>Mary Keitel, Ian Tandy, Scarlett Bening, Val B...</td>\n",
              "    </tr>\n",
              "    <tr>\n",
              "      <th>994</th>\n",
              "      <td>998</td>\n",
              "      <td>Zhivago Core</td>\n",
              "      <td>A Fateful Yarn of a Composer And a Man who mus...</td>\n",
              "      <td>Horror</td>\n",
              "      <td>0.99</td>\n",
              "      <td>105</td>\n",
              "      <td>NC-17</td>\n",
              "      <td>William Hackman, Kenneth Hoffman, Salma Nolte,...</td>\n",
              "    </tr>\n",
              "    <tr>\n",
              "      <th>995</th>\n",
              "      <td>999</td>\n",
              "      <td>Zoolander Fiction</td>\n",
              "      <td>A Fateful Reflection of a Waitress And a Boat ...</td>\n",
              "      <td>Children</td>\n",
              "      <td>2.99</td>\n",
              "      <td>101</td>\n",
              "      <td>R</td>\n",
              "      <td>Jada Ryder, Whoopi Hurt, Penelope Cronyn, Mary...</td>\n",
              "    </tr>\n",
              "    <tr>\n",
              "      <th>996</th>\n",
              "      <td>1000</td>\n",
              "      <td>Zorro Ark</td>\n",
              "      <td>A Intrepid Panorama of a Mad Scientist And a B...</td>\n",
              "      <td>Comedy</td>\n",
              "      <td>4.99</td>\n",
              "      <td>50</td>\n",
              "      <td>NC-17</td>\n",
              "      <td>Lisa Monroe, Nick Degeneres, Ian Tandy</td>\n",
              "    </tr>\n",
              "  </tbody>\n",
              "</table>\n",
              "<p>997 rows × 8 columns</p>\n",
              "</div>"
            ],
            "text/plain": [
              "      fid  ...                                             actors\n",
              "0       1  ...  Mary Keitel, Rock Dukakis, Oprah Kilmer, Warre...\n",
              "1       2  ...  Chris Depp, Sean Guiness, Minnie Zellweger, Bo...\n",
              "2       3  ...  Julianne Dench, Ray Johansson, Cameron Streep,...\n",
              "3       4  ...  Oprah Kilmer, Fay Winslet, Kenneth Pesci, Scar...\n",
              "4       5  ...  Thora Temple, Matthew Carrey, Matthew Leigh, D...\n",
              "..    ...  ...                                                ...\n",
              "992   996  ...  Mena Hopper, Christopher West, James Pitt, Jul...\n",
              "993   997  ...  Mary Keitel, Ian Tandy, Scarlett Bening, Val B...\n",
              "994   998  ...  William Hackman, Kenneth Hoffman, Salma Nolte,...\n",
              "995   999  ...  Jada Ryder, Whoopi Hurt, Penelope Cronyn, Mary...\n",
              "996  1000  ...             Lisa Monroe, Nick Degeneres, Ian Tandy\n",
              "\n",
              "[997 rows x 8 columns]"
            ]
          },
          "metadata": {},
          "execution_count": 32
        }
      ]
    },
    {
      "cell_type": "code",
      "metadata": {
        "colab": {
          "base_uri": "https://localhost:8080/"
        },
        "id": "EaUZcpvZFyrc",
        "outputId": "dfdca2eb-0989-42ad-a236-5b77ecbc326d"
      },
      "source": [
        "df1 = pd.read_sql('select title from film_list where actors like \\'%Ellen Presley%\\' or actors like \\'%Olympia Pfeiffer%\\' or actors like \\'%Julia Zellweger%\\' ',con=connection)\n",
        "print(df1)"
      ],
      "execution_count": 116,
      "outputs": [
        {
          "output_type": "stream",
          "name": "stdout",
          "text": [
            "                   title\n",
            "0            Badman Dawn\n",
            "1        Bilko Anonymous\n",
            "2   Breakfast Goldfinger\n",
            "3      Caribbean Liberty\n",
            "4       Casper Dragonfly\n",
            "..                   ...\n",
            "64             Turn Star\n",
            "65            Wait Cider\n",
            "66          Women Dorado\n",
            "67             Won Dares\n",
            "68         Wyoming Storm\n",
            "\n",
            "[69 rows x 1 columns]\n"
          ]
        }
      ]
    }
  ]
}